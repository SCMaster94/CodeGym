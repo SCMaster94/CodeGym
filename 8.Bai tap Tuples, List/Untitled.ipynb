{
 "cells": [
  {
   "cell_type": "code",
   "execution_count": null,
   "id": "bde8aed5",
   "metadata": {},
   "outputs": [],
   "source": [
    "import turtle as m\n",
    "import random\n",
    "pen=m.Turtle()\n",
    "screen=m.Screen()\n",
    "screen.setup(height=500, width=600)\n",
    "pen.speed(0)\n",
    "def draw_line(so_lan_dua=5, space=10,stad_height=510):\n",
    "    a=stad_height/(so_lan_dua*2)\n",
    "    b=(stad_height/(so_lan_dua*2)*space/100)\n",
    "    c=a-b*2\n",
    "    pen.forward(b)\n",
    "    pen.pendown()\n",
    "    pen.forward(c)\n",
    "    pen.penup()\n",
    "    pen.forward(b)\n",
    "#     print(a, b, c)\n",
    "stad_height=480\n",
    "stad_width=540\n",
    "X=-stad_width//2\n",
    "Y=-stad_height//2\n",
    "pen.penup()\n",
    "pen.goto(X,Y)\n",
    "pen.left(90)\n",
    "\n",
    "so_lane_dua=6\n",
    "y_pos=[]\n",
    "for i in range (21):   \n",
    "    Y=-stad_height//2\n",
    "    for j in range (so_lane_dua*2):\n",
    "        pen.goto(X,Y)\n",
    "        Y+=stad_height//(so_lane_dua*2)\n",
    "#         print(X,Y)\n",
    "        draw_line(so_lan_dua=so_lane_dua,stad_height=stad_height)\n",
    "        if j%2==0:\n",
    "            y_pos.append(Y+stad_height//(so_lane_dua*4))\n",
    "    X+=stad_width//20\n",
    "\n",
    "guess=screen.textinput(prompt=\"Du doan con rua nao chien thang?\",title=\"Nhap vao mau rua(do, nau, xanh duong, xanh la, cam, hong)\")\n",
    "colors=[\"red\", \"brown\", \"blue\", \"green\", \"orange\", \"pink\"]\n",
    "# y_pos=[0, -30, 30, -60, 60, 90]\n",
    "turtle_speed=[10,15,20,25,30,5]\n",
    "all_turtles=[]\n",
    "run=True\n",
    "for turtle in range (0,6):\n",
    "    turtles=m.Turtle(shape=\"turtle\")\n",
    "    turtles.penup()\n",
    "    turtles.goto(x=-270, y=y_pos[turtle])\n",
    "    turtles.color(colors[turtle])\n",
    "    all_turtles.append(turtles)\n",
    "def random_walk(turtles):\n",
    "    global run\n",
    "    for turtle in turtles:\n",
    "        turtle.forward(random.choice(turtle_speed))\n",
    "        if turtle.xcor()>270:\n",
    "            run = False\n",
    "while run:\n",
    "    random_walk(all_turtles)\n",
    "screen.exitonclick()\n",
    "        "
   ]
  },
  {
   "cell_type": "code",
   "execution_count": null,
   "id": "271555ed",
   "metadata": {},
   "outputs": [],
   "source": []
  },
  {
   "cell_type": "code",
   "execution_count": null,
   "id": "87cf3687",
   "metadata": {},
   "outputs": [],
   "source": []
  }
 ],
 "metadata": {
  "kernelspec": {
   "display_name": "Python 3 (ipykernel)",
   "language": "python",
   "name": "python3"
  },
  "language_info": {
   "codemirror_mode": {
    "name": "ipython",
    "version": 3
   },
   "file_extension": ".py",
   "mimetype": "text/x-python",
   "name": "python",
   "nbconvert_exporter": "python",
   "pygments_lexer": "ipython3",
   "version": "3.9.12"
  }
 },
 "nbformat": 4,
 "nbformat_minor": 5
}
