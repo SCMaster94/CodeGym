{
 "cells": [
  {
   "cell_type": "code",
   "execution_count": 9,
   "id": "f80f62da",
   "metadata": {},
   "outputs": [
    {
     "name": "stdout",
     "output_type": "stream",
     "text": [
      "Nhap so nguyen hoac bam Q de ke thuc: 1\n",
      "Nhap so nguyen hoac bam Q de ke thuc: 2\n",
      "Nhap so nguyen hoac bam Q de ke thuc: 2\n",
      "Nhap so nguyen hoac bam Q de ke thuc: q\n"
     ]
    },
    {
     "ename": "TypeError",
     "evalue": "min_max() takes 0 positional arguments but 1 was given",
     "output_type": "error",
     "traceback": [
      "\u001b[1;31m---------------------------------------------------------------------------\u001b[0m",
      "\u001b[1;31mTypeError\u001b[0m                                 Traceback (most recent call last)",
      "Input \u001b[1;32mIn [9]\u001b[0m, in \u001b[0;36m<cell line: 17>\u001b[1;34m()\u001b[0m\n\u001b[0;32m     15\u001b[0m             num_max\u001b[38;5;241m=\u001b[39mnums[i]\n\u001b[0;32m     16\u001b[0m     \u001b[38;5;28;01mreturn\u001b[39;00m(num_min, num_max)\n\u001b[1;32m---> 17\u001b[0m num_min, num_max\u001b[38;5;241m=\u001b[39m\u001b[43mmin_max\u001b[49m\u001b[43m(\u001b[49m\u001b[43mnums\u001b[49m\u001b[43m)\u001b[49m\n\u001b[0;32m     18\u001b[0m \u001b[38;5;28mprint\u001b[39m(\u001b[38;5;124mf\u001b[39m\u001b[38;5;124m'\u001b[39m\u001b[38;5;124mSo nho nhat la \u001b[39m\u001b[38;5;132;01m{\u001b[39;00mnum_min\u001b[38;5;132;01m}\u001b[39;00m\u001b[38;5;124m, so lon nhat la \u001b[39m\u001b[38;5;132;01m{\u001b[39;00mnum_max\u001b[38;5;132;01m}\u001b[39;00m\u001b[38;5;124m'\u001b[39m)\n",
      "\u001b[1;31mTypeError\u001b[0m: min_max() takes 0 positional arguments but 1 was given"
     ]
    }
   ],
   "source": [
    "#1\n",
    "nums=[]\n",
    "while True:\n",
    "    num=input(\"Nhap so nguyen hoac bam Q de ke thuc: \")\n",
    "    if num=='Q' or num=='q':\n",
    "        break\n",
    "    nums.append(int(num))\n",
    "def min_max(nums):\n",
    "    num_min=nums[0]\n",
    "    num_max=0\n",
    "    for i in nums:\n",
    "        if i<num_min:\n",
    "            num_min=i\n",
    "        if i>num_max:\n",
    "            num_max=i\n",
    "    return(num_min, num_max)\n",
    "num_min, num_max=min_max(nums)\n",
    "print(f'So nho nhat la {num_min}, so lon nhat la {num_max}')"
   ]
  },
  {
   "cell_type": "code",
   "execution_count": null,
   "id": "a14ce959",
   "metadata": {},
   "outputs": [],
   "source": []
  }
 ],
 "metadata": {
  "kernelspec": {
   "display_name": "Python 3 (ipykernel)",
   "language": "python",
   "name": "python3"
  },
  "language_info": {
   "codemirror_mode": {
    "name": "ipython",
    "version": 3
   },
   "file_extension": ".py",
   "mimetype": "text/x-python",
   "name": "python",
   "nbconvert_exporter": "python",
   "pygments_lexer": "ipython3",
   "version": "3.9.12"
  }
 },
 "nbformat": 4,
 "nbformat_minor": 5
}
