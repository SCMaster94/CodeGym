{
 "cells": [
  {
   "cell_type": "code",
   "execution_count": 1,
   "id": "c3baf4c5",
   "metadata": {},
   "outputs": [
    {
     "name": "stdout",
     "output_type": "stream",
     "text": [
      "Nhap so hinh elip: 10\n"
     ]
    }
   ],
   "source": [
    "import turtle\n",
    "import random\n",
    "r=100\n",
    "elip=turtle.Turtle()\n",
    "i=0\n",
    "j=0\n",
    "n=int(input(\"Nhap so hinh elip: \"))\n",
    "bg=turtle.Screen()\n",
    "bg.bgcolor('black')\n",
    "turtle.colormode(255)\n",
    "while i < n:\n",
    "    elip.pencolor(random.randint(0,255),random.randint(0,255),random.randint(0,255))\n",
    "    elip.left(360/n)\n",
    "    while j<2:\n",
    "        elip.circle(r,90)\n",
    "        elip.circle(r/2,90)\n",
    "        j+=1\n",
    "    i+=1"
   ]
  },
  {
   "cell_type": "code",
   "execution_count": null,
   "id": "6ce98bf0",
   "metadata": {},
   "outputs": [],
   "source": []
  }
 ],
 "metadata": {
  "kernelspec": {
   "display_name": "Python 3 (ipykernel)",
   "language": "python",
   "name": "python3"
  },
  "language_info": {
   "codemirror_mode": {
    "name": "ipython",
    "version": 3
   },
   "file_extension": ".py",
   "mimetype": "text/x-python",
   "name": "python",
   "nbconvert_exporter": "python",
   "pygments_lexer": "ipython3",
   "version": "3.9.12"
  }
 },
 "nbformat": 4,
 "nbformat_minor": 5
}
