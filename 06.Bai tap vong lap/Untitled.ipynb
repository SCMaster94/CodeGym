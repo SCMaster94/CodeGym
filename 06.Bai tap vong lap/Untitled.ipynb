{
 "cells": [
  {
   "cell_type": "code",
   "execution_count": 4,
   "id": "c4c76cf4",
   "metadata": {},
   "outputs": [
    {
     "name": "stdout",
     "output_type": "stream",
     "text": [
      "Width?: 30\n",
      "Height?: 10\n",
      "Char?: *\n",
      "******************************\n",
      "*                            *\n",
      "*                            *\n",
      "*                            *\n",
      "*                            *\n",
      "*                            *\n",
      "*                            *\n",
      "*                            *\n",
      "*                            *\n",
      "******************************\n"
     ]
    }
   ],
   "source": [
    "width=int(input(\"Width?: \"))\n",
    "height=int(input(\"Height?: \"))\n",
    "char=input(\"Char?: \")\n",
    "print_str=\"\"\n",
    "for i in range (height):\n",
    "    if i==0 or i==height-1:\n",
    "        for j in range (width):\n",
    "            print_str+=char\n",
    "        else:\n",
    "            print(print_str)\n",
    "            print_str=''\n",
    "    else:       \n",
    "        for j in range (width):\n",
    "            if j==0 or j==width-1:\n",
    "                print_str+=char\n",
    "            else:\n",
    "                print_str+=' '\n",
    "        else:\n",
    "            print(print_str)\n",
    "            print_str=''"
   ]
  },
  {
   "cell_type": "code",
   "execution_count": 6,
   "id": "e67a9db5",
   "metadata": {},
   "outputs": [
    {
     "name": "stdout",
     "output_type": "stream",
     "text": [
      "*\n"
     ]
    }
   ],
   "source": [
    "j=\"sdaas\"\n",
    "for i in range (True):\n",
    "    print('*')"
   ]
  },
  {
   "cell_type": "code",
   "execution_count": null,
   "id": "28ccf102",
   "metadata": {},
   "outputs": [],
   "source": []
  }
 ],
 "metadata": {
  "kernelspec": {
   "display_name": "Python 3 (ipykernel)",
   "language": "python",
   "name": "python3"
  },
  "language_info": {
   "codemirror_mode": {
    "name": "ipython",
    "version": 3
   },
   "file_extension": ".py",
   "mimetype": "text/x-python",
   "name": "python",
   "nbconvert_exporter": "python",
   "pygments_lexer": "ipython3",
   "version": "3.9.12"
  }
 },
 "nbformat": 4,
 "nbformat_minor": 5
}
