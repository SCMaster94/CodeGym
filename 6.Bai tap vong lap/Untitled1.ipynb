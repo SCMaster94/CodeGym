{
 "cells": [
  {
   "cell_type": "code",
   "execution_count": 25,
   "id": "0193e64f",
   "metadata": {},
   "outputs": [
    {
     "name": "stdout",
     "output_type": "stream",
     "text": [
      "#\n",
      "122\n"
     ]
    }
   ],
   "source": [
    "print(chr(35))\n",
    "# print(chr('a'))\n",
    "# print(ord(1))\n",
    "print(ord('z'))\n"
   ]
  },
  {
   "cell_type": "code",
   "execution_count": null,
   "id": "44b42b0c",
   "metadata": {},
   "outputs": [],
   "source": []
  }
 ],
 "metadata": {
  "kernelspec": {
   "display_name": "Python 3 (ipykernel)",
   "language": "python",
   "name": "python3"
  },
  "language_info": {
   "codemirror_mode": {
    "name": "ipython",
    "version": 3
   },
   "file_extension": ".py",
   "mimetype": "text/x-python",
   "name": "python",
   "nbconvert_exporter": "python",
   "pygments_lexer": "ipython3",
   "version": "3.9.12"
  }
 },
 "nbformat": 4,
 "nbformat_minor": 5
}
