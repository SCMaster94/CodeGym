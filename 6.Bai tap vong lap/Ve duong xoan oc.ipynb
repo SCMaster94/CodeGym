{
 "cells": [
  {
   "cell_type": "code",
   "execution_count": null,
   "id": "c6e922fb",
   "metadata": {},
   "outputs": [],
   "source": [
    "#Ve duogn xoan oc\n",
    "import turtle\n",
    "t=turtle.Turtle()\n",
    "t.hideturtle()\n",
    "d=0.1\n",
    "t.speed(0)\n",
    "D=float(input(\"Nhap khoang cach de dung vong xoan: \"))\n",
    "while True:\n",
    "    t.left(10)\n",
    "    t.forward(d)\n",
    "    d+=0.1\n",
    "    if turtle.distance(t.pos())>=D:\n",
    "        break"
   ]
  },
  {
   "cell_type": "code",
   "execution_count": null,
   "id": "df4378f9",
   "metadata": {},
   "outputs": [],
   "source": []
  }
 ],
 "metadata": {
  "kernelspec": {
   "display_name": "Python 3 (ipykernel)",
   "language": "python",
   "name": "python3"
  },
  "language_info": {
   "codemirror_mode": {
    "name": "ipython",
    "version": 3
   },
   "file_extension": ".py",
   "mimetype": "text/x-python",
   "name": "python",
   "nbconvert_exporter": "python",
   "pygments_lexer": "ipython3",
   "version": "3.9.12"
  }
 },
 "nbformat": 4,
 "nbformat_minor": 5
}
