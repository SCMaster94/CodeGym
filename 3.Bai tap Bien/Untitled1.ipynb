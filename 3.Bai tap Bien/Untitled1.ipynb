{
 "cells": [
  {
   "cell_type": "code",
   "execution_count": 8,
   "id": "a5be24cb",
   "metadata": {},
   "outputs": [
    {
     "name": "stdout",
     "output_type": "stream",
     "text": [
      "xin chao\n",
      "xin chao\n",
      "xin chao\n",
      "xin chao\n",
      "\n"
     ]
    }
   ],
   "source": [
    "chuoi=\"xin chao\"\n",
    "print((chuoi+\"\\n\")*4)"
   ]
  },
  {
   "cell_type": "code",
   "execution_count": null,
   "id": "adc9f371",
   "metadata": {},
   "outputs": [],
   "source": []
  }
 ],
 "metadata": {
  "kernelspec": {
   "display_name": "Python 3 (ipykernel)",
   "language": "python",
   "name": "python3"
  },
  "language_info": {
   "codemirror_mode": {
    "name": "ipython",
    "version": 3
   },
   "file_extension": ".py",
   "mimetype": "text/x-python",
   "name": "python",
   "nbconvert_exporter": "python",
   "pygments_lexer": "ipython3",
   "version": "3.9.12"
  }
 },
 "nbformat": 4,
 "nbformat_minor": 5
}
