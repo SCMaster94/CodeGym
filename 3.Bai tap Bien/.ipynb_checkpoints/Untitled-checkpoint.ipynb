{
 "cells": [
  {
   "cell_type": "code",
   "execution_count": 20,
   "id": "2781f2bc",
   "metadata": {},
   "outputs": [
    {
     "name": "stdout",
     "output_type": "stream",
     "text": [
      "Ten hoc vien 1:a\n",
      "Nhap tuoi 1:13\n",
      "Ten hoc vien 2:b\n",
      "Nhap tuoi 2:54\n",
      "Ten hoc vien 3:c\n",
      "Nhap tuoi 3:42\n",
      "Ten hoc vien: a, b, c\n",
      "36.333333333333336\n"
     ]
    }
   ],
   "source": [
    "ten_a= input(\"Ten hoc vien 1:\")\n",
    "tuoi_a= int(input(\"Nhap tuoi 1:\"))\n",
    "ten_b= input(\"Ten hoc vien 2:\")\n",
    "tuoi_b= int(input(\"Nhap tuoi 2:\"))\n",
    "ten_c= input(\"Ten hoc vien 3:\")\n",
    "tuoi_c= int(input(\"Nhap tuoi 3:\"))\n",
    "list_ten=\"Ten cua 3 nguoi la:/n{a}/n{b}/n{c}\"\n",
    "tuoi_trungbinh=(tuoi_a+tuoi_b+tuoi_c)/3\n",
    "print(f\"Ten hoc vien: {ten_a}, {ten_b}, {ten_c}\")\n",
    "print(tuoi_trungbinh)\n",
    "# print(list_ten.fomat(a=ten_a,b=ten_b,c=ten_c))"
   ]
  },
  {
   "cell_type": "code",
   "execution_count": 2,
   "id": "bdb98213",
   "metadata": {},
   "outputs": [
    {
     "name": "stdout",
     "output_type": "stream",
     "text": [
      "Enter the length of side a: 4\n",
      "Enter the length of side b: 5\n",
      "Enter the length of side c: 6\n",
      "Area of the triangle is:  9.921567416492215\n"
     ]
    }
   ],
   "source": [
    "import math\n",
    "a=float(input(\"Enter the length of side a: \"))\n",
    "b=float(input(\"Enter the length of side b: \"))\n",
    "c=float(input(\"Enter the length of side c: \"))\n",
    "s=(a+b+c)/2\n",
    "area=math.sqrt(s*(s-a)*(s-b)*(s-c))\n",
    "print(\"Area of the triangle is: \", area)"
   ]
  },
  {
   "cell_type": "code",
   "execution_count": 4,
   "id": "6f804d53",
   "metadata": {},
   "outputs": [
    {
     "name": "stdout",
     "output_type": "stream",
     "text": [
      "Enter temperature in Centigrade: 26\n",
      "Temperature in Fahrenheit is:  78.80000000000001\n"
     ]
    }
   ],
   "source": [
    "c=input(\"Enter temperature in Centigrade: \")\n",
    "f=int(c)*1.8+32\n",
    "print(\"Temperature in Fahrenheit is: \", f)\n"
   ]
  }
 ],
 "metadata": {
  "kernelspec": {
   "display_name": "Python 3 (ipykernel)",
   "language": "python",
   "name": "python3"
  },
  "language_info": {
   "codemirror_mode": {
    "name": "ipython",
    "version": 3
   },
   "file_extension": ".py",
   "mimetype": "text/x-python",
   "name": "python",
   "nbconvert_exporter": "python",
   "pygments_lexer": "ipython3",
   "version": "3.9.12"
  }
 },
 "nbformat": 4,
 "nbformat_minor": 5
}
