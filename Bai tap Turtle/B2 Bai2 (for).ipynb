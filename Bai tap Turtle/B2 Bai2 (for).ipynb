{
 "cells": [
  {
   "cell_type": "code",
   "execution_count": 27,
   "id": "4099ca02",
   "metadata": {},
   "outputs": [],
   "source": [
    "import turtle\n",
    "h=turtle.Turtle()\n",
    "canh=100\n",
    "tang=20\n",
    "n=20\n",
    "r=50\n",
    "goc_tang=360/n\n",
    "goc=0\n",
    "cout=0\n",
    "h.speed(0.1)\n",
    "\n",
    "for i in range(n):\n",
    "    h.penup()\n",
    "    h.home()\n",
    "    goc=goc+goc_tang\n",
    "    h.rt(goc)\n",
    "    h.fd(r)\n",
    "    h.pendown()\n",
    "    canh=canh+tang\n",
    "    h.color('gray')\n",
    "    h.fd(canh)\n",
    "    h.rt(90)\n",
    "    h.color('blue')\n",
    "    h.fd(canh)\n",
    "    h.rt(90)\n",
    "    h.color('green')\n",
    "    h.fd(canh)\n",
    "    h.rt(90)\n",
    "    h.color('red')\n",
    "    h.fd(canh)\n",
    "\n",
    "turtle.done()"
   ]
  },
  {
   "cell_type": "code",
   "execution_count": null,
   "id": "9d5bf727",
   "metadata": {},
   "outputs": [],
   "source": []
  }
 ],
 "metadata": {
  "kernelspec": {
   "display_name": "Python 3 (ipykernel)",
   "language": "python",
   "name": "python3"
  },
  "language_info": {
   "codemirror_mode": {
    "name": "ipython",
    "version": 3
   },
   "file_extension": ".py",
   "mimetype": "text/x-python",
   "name": "python",
   "nbconvert_exporter": "python",
   "pygments_lexer": "ipython3",
   "version": "3.9.12"
  }
 },
 "nbformat": 4,
 "nbformat_minor": 5
}
