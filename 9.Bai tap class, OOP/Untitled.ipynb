{
 "cells": [
  {
   "cell_type": "code",
   "execution_count": 1,
   "id": "ae9e839b",
   "metadata": {},
   "outputs": [],
   "source": [
    "import turtle\n",
    "import datetime\n",
    "\n",
    "turtle.tracer(0,0)\n",
    "class Clock:\n",
    "    def __init__(self):\n",
    "        pass\n",
    "        \n",
    "    def face(self,r=200):\n",
    "        sc=turtle.Screen()\n",
    "        sc.bgcolor('blue')\n",
    "        face=turtle.Turtle()\n",
    "        face.hideturtle()\n",
    "        face.pensize(3)\n",
    "        face.penup()\n",
    "        face.goto(0,-r)\n",
    "        face.pendown()\n",
    "        face.fillcolor('white')\n",
    "        face.begin_fill()\n",
    "        face.circle(r)\n",
    "        face.end_fill()\n",
    "        for i in range (0,60):\n",
    "            face.penup()\n",
    "            face.goto(0,0)\n",
    "            face.fd(r*0.95)\n",
    "            face.pendown()\n",
    "            if i%5==0:\n",
    "                face.backward(r*0.1)\n",
    "            else:\n",
    "                face.backward(r*0.05)\n",
    "            face.lt(360/60)\n",
    "    def clock_wise(self):\n",
    "        time=datetime.datetime.now()\n",
    "        s_h=(int(time.strftime(\"%I\"))*3600+int(time.strftime(\"%M\"))*60+int(time.strftime(\"%S\")))\n",
    "        h_angle=int(s_h*360/43200)\n",
    "        print(s_h, h_angle)\n",
    "        wise=turtle.Turtle()\n",
    "        wise.rt(h_angle)\n",
    "#         wise=turtle.Turtle()\n",
    "#         wise=\n",
    "cl=Clock()\n",
    "cl.face()\n",
    "# cl.clock_wise()        "
   ]
  },
  {
   "cell_type": "code",
   "execution_count": null,
   "id": "e4653ba7",
   "metadata": {},
   "outputs": [],
   "source": [
    "import datetime\n",
    "now=datetime.datetime.now()\n",
    "print(\"now = \", now)\n",
    "print(now.strftime(\"%H:%M:%S\"))\n",
    "print(now.strftime(\"%f\"))"
   ]
  },
  {
   "cell_type": "code",
   "execution_count": null,
   "id": "d0981874",
   "metadata": {},
   "outputs": [],
   "source": []
  }
 ],
 "metadata": {
  "kernelspec": {
   "display_name": "Python 3 (ipykernel)",
   "language": "python",
   "name": "python3"
  },
  "language_info": {
   "codemirror_mode": {
    "name": "ipython",
    "version": 3
   },
   "file_extension": ".py",
   "mimetype": "text/x-python",
   "name": "python",
   "nbconvert_exporter": "python",
   "pygments_lexer": "ipython3",
   "version": "3.9.12"
  }
 },
 "nbformat": 4,
 "nbformat_minor": 5
}
