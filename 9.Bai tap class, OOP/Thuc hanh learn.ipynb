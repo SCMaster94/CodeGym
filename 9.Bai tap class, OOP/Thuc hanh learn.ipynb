{
 "cells": [
  {
   "cell_type": "code",
   "execution_count": null,
   "id": "5d82a360",
   "metadata": {},
   "outputs": [],
   "source": [
    "import turtle\n",
    "import math\n",
    "\n",
    "class Circle:\n",
    "    def __init__(sel, r, x, y):\n",
    "        sel.r=r\n",
    "        sel.x=x\n",
    "        sel.y=y\n",
    "    def draw(sel):\n",
    "        t=turtle.Turtle()\n",
    "        t.hideturtle()\n",
    "        t.penup()\n",
    "        t.goto(sel.x, sel.y)\n",
    "        t.pendown()\n",
    "        t.circle(sel.r)\n",
    "        turtle.done()\n",
    "    def area(sel):\n",
    "        return math.pi*sel.r**2\n",
    "    def perimeter(sel):\n",
    "        return 2*math.pi*sel.r\n",
    "c = Circle(100,-200,0)\n",
    "c.draw()\n",
    "print(\"S = \", c.area())\n",
    "print(\"C = \", c.perimeter())\n",
    "print(Circle)"
   ]
  },
  {
   "cell_type": "code",
   "execution_count": 3,
   "id": "d9bb73d5",
   "metadata": {
    "scrolled": true
   },
   "outputs": [
    {
     "name": "stdout",
     "output_type": "stream",
     "text": [
      "Tiếng Anh của 'Con ong' la: \n",
      "a\n",
      "Sai\n",
      "Nhap 0 de tiep tuc: 1\n",
      "Ket thuc\n"
     ]
    }
   ],
   "source": [
    "import random\n",
    "class flashcard:\n",
    "    def __init__(self):\n",
    "        self.animals = {'Con ong': 'bee',\n",
    "                        'Con thỏ': 'rabbit',\n",
    "                        'Con cua': 'crab',\n",
    "                        'Con mèo': 'cat',\n",
    "                        'Con ngựa': 'horse',\n",
    "                        'Con khỉ': 'monkey',\n",
    "                        'Con lừa': 'donkey'}\n",
    "    def quiz(self):\n",
    "        while True:\n",
    "            vietnamese, english = random.choice(list(self.animals.items()))\n",
    "            print(\"Tiếng Anh của '{}' la: \".format(vietnamese))\n",
    "            user_answer=input()\n",
    "            if user_answer.lower()==english:\n",
    "                print(\"Dung\")\n",
    "            else:\n",
    "                print(\"Sai\")\n",
    "            option=input(\"Nhap 0 de tiep tuc: \")\n",
    "            if int(option):\n",
    "                break\n",
    "        print(\"Ket thuc\")\n",
    "fc=flashcard()\n",
    "fc.quiz()"
   ]
  },
  {
   "cell_type": "code",
   "execution_count": null,
   "id": "7709a4f1",
   "metadata": {},
   "outputs": [],
   "source": []
  },
  {
   "cell_type": "code",
   "execution_count": null,
   "id": "3fc2ac84",
   "metadata": {},
   "outputs": [],
   "source": []
  }
 ],
 "metadata": {
  "kernelspec": {
   "display_name": "Python 3 (ipykernel)",
   "language": "python",
   "name": "python3"
  },
  "language_info": {
   "codemirror_mode": {
    "name": "ipython",
    "version": 3
   },
   "file_extension": ".py",
   "mimetype": "text/x-python",
   "name": "python",
   "nbconvert_exporter": "python",
   "pygments_lexer": "ipython3",
   "version": "3.9.12"
  }
 },
 "nbformat": 4,
 "nbformat_minor": 5
}
