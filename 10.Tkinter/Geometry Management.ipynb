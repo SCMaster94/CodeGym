{
 "cells": [
  {
   "cell_type": "code",
   "execution_count": 8,
   "id": "3d1d40bc",
   "metadata": {},
   "outputs": [],
   "source": [
    "import tkinter as tk\n",
    "from tkinter import ttk\n",
    "#place()\n",
    "main_screen = tk.Tk()\n",
    "main_screen.title('Demo')\n",
    "main_screen.geometry('500x500')\n",
    "\n",
    "user_name=ttk.Label(main_screen, text = \"User name\")\n",
    "user_name.place(x=30, y=40)\n",
    "email = ttk.Label(main_screen, text = \"Email\")\n",
    "email.place(x=30, y=70)\n",
    "password = ttk.Label(main_screen, text = \"Pass word\")\n",
    "password.place(x=30, y=100)\n",
    "\n",
    "entry1 =  ttk.Entry(main_screen).place(x=100, y=40)\n",
    "entry2 =  ttk.Entry(main_screen).place(x=100, y=70)\n",
    "entry3 =  ttk.Entry(main_screen).place(x=100, y=100)\n",
    "\n",
    "main_screen.mainloop()"
   ]
  },
  {
   "cell_type": "code",
   "execution_count": 14,
   "id": "f3971008",
   "metadata": {},
   "outputs": [],
   "source": [
    "import tkinter as tk\n",
    "from tkinter import ttk\n",
    "#grid()\n",
    "main_screen = tk.Tk()\n",
    "main_screen.title('Demo')\n",
    "main_screen.geometry('500x500')\n",
    "\n",
    "user_name=ttk.Label(main_screen, text = \"User name\", background=\"red\")\n",
    "user_name.grid(row=0, column=0)\n",
    "email = ttk.Label(main_screen, text = \"Email\", background=\"red\")\n",
    "email.grid(row=1, column=0)\n",
    "password = ttk.Label(main_screen, text = \"Pass word\", background=\"red\")\n",
    "password.grid(row=2, column=0)\n",
    "\n",
    "entry1 =  ttk.Entry(main_screen)\n",
    "entry1.grid(row=0, column=1)\n",
    "entry2 =  ttk.Entry(main_screen)\n",
    "entry2.grid(row=1, column=1)\n",
    "entry3 =  ttk.Entry(main_screen)\n",
    "entry3.grid(row=2, column=1)\n",
    "\n",
    "main_screen.mainloop()"
   ]
  },
  {
   "cell_type": "code",
   "execution_count": null,
   "id": "623d06ab",
   "metadata": {},
   "outputs": [],
   "source": []
  }
 ],
 "metadata": {
  "kernelspec": {
   "display_name": "Python 3 (ipykernel)",
   "language": "python",
   "name": "python3"
  },
  "language_info": {
   "codemirror_mode": {
    "name": "ipython",
    "version": 3
   },
   "file_extension": ".py",
   "mimetype": "text/x-python",
   "name": "python",
   "nbconvert_exporter": "python",
   "pygments_lexer": "ipython3",
   "version": "3.9.12"
  }
 },
 "nbformat": 4,
 "nbformat_minor": 5
}
