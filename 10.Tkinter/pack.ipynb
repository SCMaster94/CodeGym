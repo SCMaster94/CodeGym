{
 "cells": [
  {
   "cell_type": "code",
   "execution_count": 17,
   "id": "233c41e5",
   "metadata": {},
   "outputs": [],
   "source": [
    "import tkinter as tk\n",
    "from tkinter import ttk\n",
    "\n",
    "main_screen=tk.Tk()\n",
    "main_screen.title('Pack Demo')\n",
    "main_screen.geometry('300x200')\n",
    "style=ttk.Style(main_screen)\n",
    "style.theme_use('default')\n",
    "\n",
    "frame1=ttk.Frame(\n",
    "    main_screen,  \n",
    ")\n",
    "frame1.pack(side='top', fill='both')\n",
    "\n",
    "label1=ttk.Label(\n",
    "    frame1,\n",
    "    text=\"User name:\",\n",
    "    background=\"green\",\n",
    "    foreground=\"white\"\n",
    "#     anchor=tk.CENTER\n",
    ")\n",
    "label1.pack(side='left', fill='both', ipadx=00)\n",
    "entry1 = ttk.Entry(\n",
    "    frame1,\n",
    "    background=\"green\",\n",
    "    foreground=\"white\"                  \n",
    ")\n",
    "entry1.pack(side='left', fill='both', ipadx=00)\n",
    "\n",
    "frame2=ttk.Frame(\n",
    "    main_screen,  \n",
    ")\n",
    "frame2.pack(side='top', fill='both')\n",
    "label2=ttk.Label(\n",
    "    frame2,\n",
    "    text=\"Email\",\n",
    "    background=\"blue\",\n",
    "    foreground=\"white\"\n",
    ")\n",
    "label2.pack(side='left', fill='both', ipadx=00)\n",
    "entry2 = ttk.Entry(\n",
    "    frame2,\n",
    "    background=\"blue\",\n",
    "    foreground=\"white\"                  \n",
    ")\n",
    "entry2.pack(side='left', fill='both', ipadx=00)\n",
    "\n",
    "\n",
    "tk.mainloop()"
   ]
  },
  {
   "cell_type": "code",
   "execution_count": null,
   "id": "a46cb12a",
   "metadata": {},
   "outputs": [],
   "source": []
  }
 ],
 "metadata": {
  "kernelspec": {
   "display_name": "Python 3 (ipykernel)",
   "language": "python",
   "name": "python3"
  },
  "language_info": {
   "codemirror_mode": {
    "name": "ipython",
    "version": 3
   },
   "file_extension": ".py",
   "mimetype": "text/x-python",
   "name": "python",
   "nbconvert_exporter": "python",
   "pygments_lexer": "ipython3",
   "version": "3.9.12"
  }
 },
 "nbformat": 4,
 "nbformat_minor": 5
}
