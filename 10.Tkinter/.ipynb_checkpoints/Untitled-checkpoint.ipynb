{
 "cells": [
  {
   "cell_type": "code",
   "execution_count": null,
   "id": "6b900422",
   "metadata": {},
   "outputs": [],
   "source": [
    "from tkinter import *\n",
    "from tkinter import *\n",
    "\n",
    "root = Tk()\n",
    "root.title(\"First_Program\")\n",
    "\n",
    "label = Label(root, text=\"Hello World!\").pack()"
   ]
  },
  {
   "cell_type": "code",
   "execution_count": 1,
   "id": "b0f8d8a0",
   "metadata": {
    "scrolled": true
   },
   "outputs": [],
   "source": [
    "import tkinter as tk\n",
    "from tkinter import ttk\n",
    "\n",
    "screen = tk.Tk()\n",
    "screen.title('Demo')\n",
    "screen.geometry('500x500')\n",
    "label=ttk.Label(screen, text='Label 1', background='red')\n",
    "label.place(relx=0.2, rely=0.2)\n",
    "\n",
    "\n",
    "screen.mainloop()"
   ]
  },
  {
   "cell_type": "code",
   "execution_count": null,
   "id": "46b08586",
   "metadata": {},
   "outputs": [],
   "source": [
    "s"
   ]
  }
 ],
 "metadata": {
  "kernelspec": {
   "display_name": "Python 3 (ipykernel)",
   "language": "python",
   "name": "python3"
  },
  "language_info": {
   "codemirror_mode": {
    "name": "ipython",
    "version": 3
   },
   "file_extension": ".py",
   "mimetype": "text/x-python",
   "name": "python",
   "nbconvert_exporter": "python",
   "pygments_lexer": "ipython3",
   "version": "3.9.12"
  }
 },
 "nbformat": 4,
 "nbformat_minor": 5
}
