{
 "cells": [
  {
   "cell_type": "code",
   "execution_count": null,
   "id": "11398b4d",
   "metadata": {},
   "outputs": [],
   "source": [
    "import tkinter as tk\n",
    "from tkinter import ttk\n",
    "\n",
    "main_screen = tk.Tk()\n",
    "main_screen.title('Demo')\n",
    "main_screen.geometry('500x500')\n",
    "\n",
    "user_name=ttk.Label(main_screen, text = \"User name\")\n",
    "user_name.place(x=30, y=40)\n",
    "email = ttk.Label(main_screen, text = \"Email\")\n",
    "email.place(x=30, y=70)\n",
    "password = ttk.Label(main_screen, text = \"Pass word\")\n",
    "password.place(x=30, y=100)\n",
    "\n",
    "entry1 =  ttk.Entry(main_screen).place(x=100, y=40)\n",
    "entry2 =  ttk.Entry(main_screen).place(x=100, y=70)\n",
    "entry3 =  ttk.Entry(main_screen).place(x=100, y=100)\n",
    "\n",
    "main_screen.mainloop()"
   ]
  },
  {
   "cell_type": "code",
   "execution_count": null,
   "id": "68d01acc",
   "metadata": {},
   "outputs": [],
   "source": []
  }
 ],
 "metadata": {
  "kernelspec": {
   "display_name": "Python 3 (ipykernel)",
   "language": "python",
   "name": "python3"
  },
  "language_info": {
   "codemirror_mode": {
    "name": "ipython",
    "version": 3
   },
   "file_extension": ".py",
   "mimetype": "text/x-python",
   "name": "python",
   "nbconvert_exporter": "python",
   "pygments_lexer": "ipython3",
   "version": "3.9.12"
  }
 },
 "nbformat": 4,
 "nbformat_minor": 5
}
