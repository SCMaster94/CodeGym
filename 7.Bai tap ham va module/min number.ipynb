{
 "cells": [
  {
   "cell_type": "code",
   "execution_count": null,
   "id": "df312c15",
   "metadata": {},
   "outputs": [],
   "source": [
    "numbers=(6,2,3,1,5,10,12,13,2,4)\n",
    "def min_number(numbers):\n",
    "    result=numbers[0]\n",
    "    for num in numbers:\n",
    "        if result>num:\n",
    "            result=num\n",
    "    return result\n",
    "min_number=min_number(numbers)\n",
    "print(\"So nho nhat la: \",min_number)"
   ]
  },
  {
   "cell_type": "code",
   "execution_count": null,
   "id": "3c79edd2",
   "metadata": {},
   "outputs": [],
   "source": [
    "numbers=()\n",
    "def min_number(numbers):\n",
    "    result=numbers[0]\n",
    "    for num in numbers:\n",
    "        if result>num:\n",
    "            result=num\n",
    "    return result\n",
    "def get_number(numbers, number):\n",
    "    add_number=(number,)\n",
    "    numbers=numbers+add_number\n",
    "    return numbers\n",
    "while True:\n",
    "    try:\n",
    "        a=int(input(\"Nhap so cho day: \"))\n",
    "    except:\n",
    "        break\n",
    "    numbers=get_number(numbers, a)\n",
    "min_number=min_number(numbers)\n",
    "print(\"So nho nhat la: \",min_number)"
   ]
  },
  {
   "cell_type": "code",
   "execution_count": null,
   "id": "3262622c",
   "metadata": {},
   "outputs": [],
   "source": []
  }
 ],
 "metadata": {
  "kernelspec": {
   "display_name": "Python 3 (ipykernel)",
   "language": "python",
   "name": "python3"
  },
  "language_info": {
   "codemirror_mode": {
    "name": "ipython",
    "version": 3
   },
   "file_extension": ".py",
   "mimetype": "text/x-python",
   "name": "python",
   "nbconvert_exporter": "python",
   "pygments_lexer": "ipython3",
   "version": "3.9.12"
  }
 },
 "nbformat": 4,
 "nbformat_minor": 5
}
