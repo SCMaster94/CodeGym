{
 "cells": [
  {
   "cell_type": "code",
   "execution_count": null,
   "id": "25ed2367",
   "metadata": {},
   "outputs": [],
   "source": [
    "import turtle\n",
    "m=turtle.Turtle()\n",
    "m.hideturtle()\n",
    "m.pencolor('red')\n",
    "def draw_square(w):\n",
    "    for i in range(4):\n",
    "        m.forward(w)\n",
    "        m.right(90)\n",
    "    turtle.done()\n",
    "t=draw_square(100)"
   ]
  },
  {
   "cell_type": "code",
   "execution_count": null,
   "id": "7b966465",
   "metadata": {},
   "outputs": [],
   "source": [
    "import turtle\n",
    "m=turtle.Turtle()\n",
    "m.hideturtle()\n",
    "m.pencolor('red')\n",
    "def draw_square(n, w=100):\n",
    "    for i in range(n):\n",
    "        m.forward(w)\n",
    "        m.right(360/n)\n",
    "    turtle.done()\n",
    "n=int(input(\"Nhap so canh cua da giac deu: \"))\n",
    "w=int(input(\"Nhap chieu dai canh cua da giac deu: \"))\n",
    "t=draw_square(n, w)"
   ]
  },
  {
   "cell_type": "code",
   "execution_count": null,
   "id": "b559ea17",
   "metadata": {},
   "outputs": [],
   "source": [
    "def trans(F):\n",
    "    C=(F-32)/1.8\n",
    "    return C\n",
    "F=float(input(\"Nhap do F can doi: \"))\n",
    "C=trans(F)\n",
    "print(C)"
   ]
  },
  {
   "cell_type": "code",
   "execution_count": 1,
   "id": "cca8f6a4",
   "metadata": {},
   "outputs": [
    {
     "name": "stdout",
     "output_type": "stream",
     "text": [
      "Nhap ban kinh hinh tron: 100\n",
      "Nhap mau cua hinh tron: blue\n",
      "Dien tich hinh tron co ban kinh 100.0 la: 31415.926535897932\n"
     ]
    }
   ],
   "source": [
    "import turtle\n",
    "import math\n",
    "def draw(r, color):\n",
    "    t=turtle.Turtle()\n",
    "    t.hideturtle()\n",
    "    t.pencolor(color)\n",
    "    t.circle(r)\n",
    "    turtle.done()\n",
    "def area(r):\n",
    "    S=r*r*math.pi\n",
    "    return S\n",
    "r=float(input(\"Nhap ban kinh hinh tron: \"))\n",
    "color=input(\"Nhap mau cua hinh tron: \")\n",
    "S= area(r)\n",
    "print(\"Dien tich hinh tron co ban kinh {r} la: {s}\".format(r=r,s=S))\n",
    "draw(r, color)"
   ]
  },
  {
   "cell_type": "code",
   "execution_count": null,
   "id": "b3f5d5eb",
   "metadata": {},
   "outputs": [],
   "source": []
  }
 ],
 "metadata": {
  "kernelspec": {
   "display_name": "Python 3 (ipykernel)",
   "language": "python",
   "name": "python3"
  },
  "language_info": {
   "codemirror_mode": {
    "name": "ipython",
    "version": 3
   },
   "file_extension": ".py",
   "mimetype": "text/x-python",
   "name": "python",
   "nbconvert_exporter": "python",
   "pygments_lexer": "ipython3",
   "version": "3.9.12"
  }
 },
 "nbformat": 4,
 "nbformat_minor": 5
}
