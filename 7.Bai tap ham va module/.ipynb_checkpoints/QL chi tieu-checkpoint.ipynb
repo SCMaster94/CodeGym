{
 "cells": [
  {
   "cell_type": "code",
   "execution_count": null,
   "id": "64118ce7",
   "metadata": {},
   "outputs": [
    {
     "name": "stdout",
     "output_type": "stream",
     "text": [
      "Chi tieu cua ban:  []\n",
      "Ban muon lam gi? -\n",
      "1. Them chi tieu\n",
      "2. Xoa chi tieu\n",
      "Q. Quit\n",
      "Chon 1 hoac 2: 1\n",
      "Ten chi tieu ban muon nhap: Mua nha\n",
      "Gia tri chi tieu: 20000000000\n",
      "Ngay chi tieu: Mua xe\n",
      "Chi tieu cua ban:  [{'name': 'Mua nha', 'cost': '20000000000', 'date': 'Mua xe'}]\n",
      "Ban muon lam gi? -\n",
      "1. Them chi tieu\n",
      "2. Xoa chi tieu\n",
      "Q. Quit\n"
     ]
    }
   ],
   "source": [
    "def add_item(myTempList, item):\n",
    "    myTempList.append(item)\n",
    "def find_index(myTempList, item_name):   \n",
    "    result=-1\n",
    "    length=len(myTempList)\n",
    "    for i in range (length):\n",
    "        if item_name==myTempList[i]['name']:\n",
    "            result=i\n",
    "    return result\n",
    "def remove_item(myTempList, item_name):\n",
    "    index=find_index(myTempList, item_name)\n",
    "    if index>-1:\n",
    "        del myTempList[index]\n",
    "    else:\n",
    "        print(item_name + \"Khong co phan tu trong mang!\")\n",
    "expenses=[]\n",
    "print(\"Chi tieu cua ban: \", expenses)\n",
    "while True:\n",
    "    print(\"Ban muon lam gi? -\\n\"\\\n",
    "                 \"1. Them chi tieu\\n\"\\\n",
    "                 \"2. Xoa chi tieu\\n\"\n",
    "                 \"Q. Quit\")\n",
    "    chose=int(input(\"Chon 1 hoac 2: \"))\n",
    "    if chose == 1:\n",
    "        name_input=input(\"Ten chi tieu ban muon nhap: \")\n",
    "        cost_input=input(\"Gia tri chi tieu: \")\n",
    "        date_input=input(\"Ngay chi tieu: \")\n",
    "        item={'name':name_input, 'cost':cost_input, 'date':date_input}\n",
    "        add_item(expenses, item)\n",
    "        print(\"Chi tieu cua ban: \", expenses)\n",
    "    elif chose == 2:\n",
    "        name_input=input(\"Ten chi tieu ban muon xoa: \")\n",
    "        remove_item(expenses, name_input)\n",
    "        print(\"Chi tieu cua ban: \", expenses)\n",
    "    elif chose == q or chose == Q:\n",
    "        break\n",
    "    else:\n",
    "        print(\"Nhap sai roi ban oi!\")\n",
    "            "
   ]
  },
  {
   "cell_type": "code",
   "execution_count": null,
   "id": "7783e6e1",
   "metadata": {},
   "outputs": [],
   "source": []
  }
 ],
 "metadata": {
  "kernelspec": {
   "display_name": "Python 3 (ipykernel)",
   "language": "python",
   "name": "python3"
  },
  "language_info": {
   "codemirror_mode": {
    "name": "ipython",
    "version": 3
   },
   "file_extension": ".py",
   "mimetype": "text/x-python",
   "name": "python",
   "nbconvert_exporter": "python",
   "pygments_lexer": "ipython3",
   "version": "3.9.12"
  }
 },
 "nbformat": 4,
 "nbformat_minor": 5
}
