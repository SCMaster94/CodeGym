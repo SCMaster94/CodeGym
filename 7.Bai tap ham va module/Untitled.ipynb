{
 "cells": [
  {
   "cell_type": "code",
   "execution_count": 8,
   "id": "a044a20e",
   "metadata": {},
   "outputs": [
    {
     "name": "stdout",
     "output_type": "stream",
     "text": [
      "1796786972976\n",
      "<class 'int'>\n",
      "1796872121232\n",
      "<class 'float'>\n",
      "1796873243472\n",
      "<class 'float'>\n",
      "True\n"
     ]
    },
    {
     "data": {
      "text/plain": [
       "False"
      ]
     },
     "execution_count": 8,
     "metadata": {},
     "output_type": "execute_result"
    }
   ],
   "source": [
    "a=1\n",
    "print(id(a))\n",
    "print(type(a))\n",
    "b=2/2\n",
    "print(id(b))\n",
    "print(type(b))\n",
    "c=2/2\n",
    "print(id(c))\n",
    "print(type(c))\n",
    "d=a==c\n",
    "print(d)\n",
    "b is c"
   ]
  },
  {
   "cell_type": "code",
   "execution_count": 19,
   "id": "050056f9",
   "metadata": {},
   "outputs": [
    {
     "name": "stdout",
     "output_type": "stream",
     "text": [
      "Toi ten la: Codegym, tuoi: 20, que: HCM\n",
      "None\n"
     ]
    }
   ],
   "source": [
    "def hien_thi(ten, tuoi, que_quan='HCM'):\n",
    "    print(f'Toi ten la: {ten}, tuoi: {tuoi}, que: {que_quan}')\n",
    "hien_thi('Codegym', 20)\n",
    "print(hien_thi.__doc__)"
   ]
  },
  {
   "cell_type": "code",
   "execution_count": null,
   "id": "dc78b5c0",
   "metadata": {},
   "outputs": [],
   "source": []
  }
 ],
 "metadata": {
  "kernelspec": {
   "display_name": "Python 3 (ipykernel)",
   "language": "python",
   "name": "python3"
  },
  "language_info": {
   "codemirror_mode": {
    "name": "ipython",
    "version": 3
   },
   "file_extension": ".py",
   "mimetype": "text/x-python",
   "name": "python",
   "nbconvert_exporter": "python",
   "pygments_lexer": "ipython3",
   "version": "3.9.12"
  }
 },
 "nbformat": 4,
 "nbformat_minor": 5
}
