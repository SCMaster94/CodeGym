{
 "cells": [
  {
   "cell_type": "code",
   "execution_count": 2,
   "id": "006abb81",
   "metadata": {},
   "outputs": [
    {
     "name": "stdout",
     "output_type": "stream",
     "text": [
      "Nhap chuoi: dsfasdfasd\n",
      "Chuoi cua ban dai 10m\n"
     ]
    }
   ],
   "source": [
    "def count(txt):\n",
    "    result=0\n",
    "    for i in txt:\n",
    "        result +=1\n",
    "    return result\n",
    "txt=input(\"Nhap chuoi: \")\n",
    "n=count(txt)\n",
    "print(f\"Chuoi cua ban dai {n}m\")"
   ]
  },
  {
   "cell_type": "code",
   "execution_count": null,
   "id": "48ee973d",
   "metadata": {},
   "outputs": [],
   "source": []
  }
 ],
 "metadata": {
  "kernelspec": {
   "display_name": "Python 3 (ipykernel)",
   "language": "python",
   "name": "python3"
  },
  "language_info": {
   "codemirror_mode": {
    "name": "ipython",
    "version": 3
   },
   "file_extension": ".py",
   "mimetype": "text/x-python",
   "name": "python",
   "nbconvert_exporter": "python",
   "pygments_lexer": "ipython3",
   "version": "3.9.12"
  }
 },
 "nbformat": 4,
 "nbformat_minor": 5
}
