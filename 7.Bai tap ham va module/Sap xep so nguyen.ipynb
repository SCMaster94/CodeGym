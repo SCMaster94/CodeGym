{
 "cells": [
  {
   "cell_type": "code",
   "execution_count": 3,
   "id": "a2c975e1",
   "metadata": {},
   "outputs": [
    {
     "name": "stdout",
     "output_type": "stream",
     "text": [
      "Nhap so thu nhat: 2\n",
      "Nhap so thu hai: 3\n",
      "Nhap so thu ba: 1\n",
      "Day so sau khi sap xep:  1 2 3\n"
     ]
    }
   ],
   "source": [
    "def sort(num1, num2, num3):\n",
    "    temp=0\n",
    "    if num1>num2 and num2<num3:\n",
    "        temp=num1\n",
    "        num1=num2\n",
    "        num2=temp\n",
    "    elif num3<num1 and num3<num2:\n",
    "        temp=num1\n",
    "        num1=num3\n",
    "        num3=temp\n",
    "    if num2>num3:\n",
    "        temp=num2\n",
    "        num2=num3\n",
    "        num3=temp\n",
    "    return (num1, num2, num3)\n",
    "num1=int(input(\"Nhap so thu nhat: \"))\n",
    "num2=int(input(\"Nhap so thu hai: \"))\n",
    "num3=int(input(\"Nhap so thu ba: \"))\n",
    "a,b,c=sort(num1, num2, num3)\n",
    "print(\"Day so sau khi sap xep: \",a,b,c)"
   ]
  },
  {
   "cell_type": "code",
   "execution_count": null,
   "id": "0addaeb0",
   "metadata": {},
   "outputs": [],
   "source": []
  }
 ],
 "metadata": {
  "kernelspec": {
   "display_name": "Python 3 (ipykernel)",
   "language": "python",
   "name": "python3"
  },
  "language_info": {
   "codemirror_mode": {
    "name": "ipython",
    "version": 3
   },
   "file_extension": ".py",
   "mimetype": "text/x-python",
   "name": "python",
   "nbconvert_exporter": "python",
   "pygments_lexer": "ipython3",
   "version": "3.9.12"
  }
 },
 "nbformat": 4,
 "nbformat_minor": 5
}
