{
 "cells": [
  {
   "cell_type": "code",
   "execution_count": 3,
   "id": "573c5688",
   "metadata": {},
   "outputs": [
    {
     "name": "stdout",
     "output_type": "stream",
     "text": [
      "Nhap so tu nhien can so sanh: 85\n",
      "False\n"
     ]
    }
   ],
   "source": [
    "#Chenh khong qua 10\n",
    "n=int(input(\"Nhap so tu nhien can so sanh: \"))\n",
    "a=abs(n-100)\n",
    "b=abs(n-200)\n",
    "c=a<=10 or b<=10\n",
    "print(c and \"Chenh khong qua 10\")"
   ]
  },
  {
   "cell_type": "code",
   "execution_count": null,
   "id": "5bf84ecf",
   "metadata": {},
   "outputs": [],
   "source": [
    "#1\n",
    "n=input(\"Nhap so nguyen n: \")\n",
    "nn=int(n*2)\n",
    "nnn=int(n*3)\n",
    "f=int(n)/(nn*nnn)\n",
    "print(\"Gia tri cua bieu thuc {n}/({nn}*{nnn}) la: {f}\".format(n=n,nn=nn,nnn=nnn,f=f))"
   ]
  },
  {
   "cell_type": "code",
   "execution_count": null,
   "id": "ba5e19c7",
   "metadata": {},
   "outputs": [],
   "source": []
  }
 ],
 "metadata": {
  "kernelspec": {
   "display_name": "Python 3 (ipykernel)",
   "language": "python",
   "name": "python3"
  },
  "language_info": {
   "codemirror_mode": {
    "name": "ipython",
    "version": 3
   },
   "file_extension": ".py",
   "mimetype": "text/x-python",
   "name": "python",
   "nbconvert_exporter": "python",
   "pygments_lexer": "ipython3",
   "version": "3.9.12"
  }
 },
 "nbformat": 4,
 "nbformat_minor": 5
}
