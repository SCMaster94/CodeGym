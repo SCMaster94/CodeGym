{
 "cells": [
  {
   "cell_type": "code",
   "execution_count": 1,
   "id": "70eb4442",
   "metadata": {},
   "outputs": [
    {
     "name": "stdout",
     "output_type": "stream",
     "text": [
      "Nhap hinh ban muon ve 1-Vuong 2-Tron: 2\n",
      " Nhap mau sac ban muon to 1-Vang, 2-Do, 3-Xanh duong: 2\n"
     ]
    }
   ],
   "source": [
    "#Ve va to mau\n",
    "import turtle\n",
    "shape=int(input(\"Nhap hinh ban muon ve 1-Vuong 2-Tron: \"))\n",
    "colorInput= int(input(\" Nhap mau sac ban muon to 1-Vang, 2-Do, 3-Xanh duong: \"))\n",
    "t=turtle.Turtle()\n",
    "if colorInput==1:\n",
    "    colorInput='yellow'\n",
    "elif colorInput==2:\n",
    "    colorInput='red'\n",
    "elif colorInput==3:\n",
    "    colorInput='blue'\n",
    "else:\n",
    "    print(\"Vui long nhap lai ma mau!\")\n",
    "if shape==1:\n",
    "    shape='square'\n",
    "elif shape==2:\n",
    "    shape='circle'\n",
    "else:\n",
    "    print(\"Vui long nhap lai hinh muon ve!\")\n",
    "t.shape(shape)\n",
    "t.color(colorInput)\n",
    "turtle.done()\n",
    "    \n",
    "    \n",
    "    "
   ]
  },
  {
   "cell_type": "code",
   "execution_count": null,
   "id": "5b091926",
   "metadata": {},
   "outputs": [],
   "source": [
    "#To mau ngau nhien\n",
    "import turtle\n",
    "import random\n",
    "number=random.uniform(0,3)\n"
   ]
  }
 ],
 "metadata": {
  "kernelspec": {
   "display_name": "Python 3 (ipykernel)",
   "language": "python",
   "name": "python3"
  },
  "language_info": {
   "codemirror_mode": {
    "name": "ipython",
    "version": 3
   },
   "file_extension": ".py",
   "mimetype": "text/x-python",
   "name": "python",
   "nbconvert_exporter": "python",
   "pygments_lexer": "ipython3",
   "version": "3.9.12"
  }
 },
 "nbformat": 4,
 "nbformat_minor": 5
}
