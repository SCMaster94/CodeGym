{
 "cells": [
  {
   "cell_type": "code",
   "execution_count": 5,
   "id": "67e6551d",
   "metadata": {},
   "outputs": [
    {
     "name": "stdout",
     "output_type": "stream",
     "text": [
      "5\n",
      "1\n",
      "2\n",
      "3\n",
      "4\n",
      "5\n",
      "giai thua cua so 5 la:  5\n"
     ]
    }
   ],
   "source": [
    "n=int(input(\"\"))\n",
    "if n<0:\n",
    "    print(\"bla\")\n",
    "else:\n",
    "    giai_thua=1\n",
    "    m=1\n",
    "    while m<=n:\n",
    "        i=giai_thua*m\n",
    "        m=m+1\n",
    "        print(i)\n",
    "    print(f\"giai thua cua so {n} la: \",i)"
   ]
  },
  {
   "cell_type": "code",
   "execution_count": null,
   "id": "324e00aa",
   "metadata": {},
   "outputs": [],
   "source": []
  }
 ],
 "metadata": {
  "kernelspec": {
   "display_name": "Python 3 (ipykernel)",
   "language": "python",
   "name": "python3"
  },
  "language_info": {
   "codemirror_mode": {
    "name": "ipython",
    "version": 3
   },
   "file_extension": ".py",
   "mimetype": "text/x-python",
   "name": "python",
   "nbconvert_exporter": "python",
   "pygments_lexer": "ipython3",
   "version": "3.9.12"
  }
 },
 "nbformat": 4,
 "nbformat_minor": 5
}
