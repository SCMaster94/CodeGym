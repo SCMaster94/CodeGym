{
 "cells": [
  {
   "cell_type": "code",
   "execution_count": null,
   "id": "8fac8bdc",
   "metadata": {},
   "outputs": [],
   "source": [
    "import turtle\n",
    "def draw_rec(width, height, color):\n",
    "    t=turtle.Turtle()\n",
    "    t.color(color)\n",
    "    t.forward(width)\n",
    "    t.right(90)\n",
    "    t.forward(height)\n",
    "    t.right(90)\n",
    "    t.forward(width)\n",
    "    t.right(90)\n",
    "    t.forward(height)\n",
    "    t.right(90)\n",
    "    turtle.done()\n",
    "draw_rec(50,100,'red')\n"
   ]
  },
  {
   "cell_type": "code",
   "execution_count": null,
   "id": "c2cca3fe",
   "metadata": {},
   "outputs": [],
   "source": []
  }
 ],
 "metadata": {
  "kernelspec": {
   "display_name": "Python 3 (ipykernel)",
   "language": "python",
   "name": "python3"
  },
  "language_info": {
   "codemirror_mode": {
    "name": "ipython",
    "version": 3
   },
   "file_extension": ".py",
   "mimetype": "text/x-python",
   "name": "python",
   "nbconvert_exporter": "python",
   "pygments_lexer": "ipython3",
   "version": "3.9.12"
  }
 },
 "nbformat": 4,
 "nbformat_minor": 5
}
