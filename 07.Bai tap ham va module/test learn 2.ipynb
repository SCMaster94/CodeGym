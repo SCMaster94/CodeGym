{
 "cells": [
  {
   "cell_type": "code",
   "execution_count": null,
   "id": "a044a20e",
   "metadata": {},
   "outputs": [],
   "source": [
    "a=1\n",
    "print(id(a))\n",
    "print(type(a))\n",
    "b=2/2\n",
    "print(id(b))\n",
    "print(type(b))\n",
    "c=2/2\n",
    "print(id(c))\n",
    "print(type(c))\n",
    "d=a==c\n",
    "print(d)\n",
    "b is c"
   ]
  },
  {
   "cell_type": "code",
   "execution_count": null,
   "id": "050056f9",
   "metadata": {},
   "outputs": [],
   "source": [
    "def hien_thi(ten, tuoi, que_quan='HCM'):\n",
    "    print(f'Toi ten la: {ten}, tuoi: {tuoi}, que: {que_quan}')\n",
    "hien_thi('Codegym', 20)\n",
    "print(hien_thi.__doc__)"
   ]
  },
  {
   "cell_type": "code",
   "execution_count": 52,
   "id": "dc78b5c0",
   "metadata": {},
   "outputs": [
    {
     "ename": "TypeError",
     "evalue": "sum() got an unexpected keyword argument 'a'",
     "output_type": "error",
     "traceback": [
      "\u001b[1;31m---------------------------------------------------------------------------\u001b[0m",
      "\u001b[1;31mTypeError\u001b[0m                                 Traceback (most recent call last)",
      "Input \u001b[1;32mIn [52]\u001b[0m, in \u001b[0;36m<cell line: 11>\u001b[1;34m()\u001b[0m\n\u001b[0;32m      5\u001b[0m     \u001b[38;5;28mprint\u001b[39m(\u001b[38;5;241m*\u001b[39mx)\n\u001b[0;32m      6\u001b[0m \u001b[38;5;66;03m#         s += **kwargs\u001b[39;00m\n\u001b[0;32m      7\u001b[0m \u001b[38;5;66;03m#     return s\u001b[39;00m\n\u001b[0;32m      8\u001b[0m \n\u001b[0;32m      9\u001b[0m \u001b[38;5;66;03m# x={'a':1, 'b':2, 'c':3}\u001b[39;00m\n\u001b[0;32m     10\u001b[0m \u001b[38;5;66;03m# d = sum(x)\u001b[39;00m\n\u001b[1;32m---> 11\u001b[0m \u001b[38;5;28;43msum\u001b[39;49m\u001b[43m(\u001b[49m\u001b[43ma\u001b[49m\u001b[38;5;241;43m=\u001b[39;49m\u001b[38;5;241;43m1\u001b[39;49m\u001b[43m,\u001b[49m\u001b[43m \u001b[49m\u001b[43mb\u001b[49m\u001b[38;5;241;43m=\u001b[39;49m\u001b[38;5;241;43m2\u001b[39;49m\u001b[43m,\u001b[49m\u001b[43m \u001b[49m\u001b[43mc\u001b[49m\u001b[38;5;241;43m=\u001b[39;49m\u001b[38;5;241;43m3\u001b[39;49m\u001b[43m)\u001b[49m\n",
      "\u001b[1;31mTypeError\u001b[0m: sum() got an unexpected keyword argument 'a'"
     ]
    }
   ],
   "source": [
    "def sum(*x):\n",
    "#     for i in range(2):\n",
    "#     print(id(**x))\n",
    "    print(type(x))\n",
    "    print(*x)\n",
    "#         s += **kwargs\n",
    "#     return s\n",
    "\n",
    "# x={'a':1, 'b':2, 'c':3}\n",
    "# d = sum(x)\n",
    "sum(a=1, b=2, c=3)\n",
    "# print(d)"
   ]
  },
  {
   "cell_type": "code",
   "execution_count": 27,
   "id": "2de6d3de",
   "metadata": {},
   "outputs": [
    {
     "ename": "TypeError",
     "evalue": "sum() got an unexpected keyword argument 'a'",
     "output_type": "error",
     "traceback": [
      "\u001b[1;31m---------------------------------------------------------------------------\u001b[0m",
      "\u001b[1;31mTypeError\u001b[0m                                 Traceback (most recent call last)",
      "Input \u001b[1;32mIn [27]\u001b[0m, in \u001b[0;36m<cell line: 7>\u001b[1;34m()\u001b[0m\n\u001b[0;32m      3\u001b[0m     \u001b[38;5;28mprint\u001b[39m(x)\n\u001b[0;32m      4\u001b[0m \u001b[38;5;66;03m#         s += **kwargs\u001b[39;00m\n\u001b[0;32m      5\u001b[0m \u001b[38;5;66;03m#     return s\u001b[39;00m\n\u001b[0;32m      6\u001b[0m \u001b[38;5;66;03m# d = sum(x)\u001b[39;00m\n\u001b[1;32m----> 7\u001b[0m \u001b[38;5;28;43msum\u001b[39;49m\u001b[43m(\u001b[49m\u001b[43ma\u001b[49m\u001b[38;5;241;43m=\u001b[39;49m\u001b[38;5;241;43m1\u001b[39;49m\u001b[43m,\u001b[49m\u001b[43m \u001b[49m\u001b[43mb\u001b[49m\u001b[38;5;241;43m=\u001b[39;49m\u001b[38;5;241;43m2\u001b[39;49m\u001b[43m,\u001b[49m\u001b[43m \u001b[49m\u001b[43mc\u001b[49m\u001b[38;5;241;43m=\u001b[39;49m\u001b[38;5;241;43m3\u001b[39;49m\u001b[43m)\u001b[49m\n",
      "\u001b[1;31mTypeError\u001b[0m: sum() got an unexpected keyword argument 'a'"
     ]
    }
   ],
   "source": [
    "def sum(*x):\n",
    "#     for i in range(2):\n",
    "    print(x)\n",
    "#         s += **kwargs\n",
    "#     return s\n",
    "# d = sum(x)\n",
    "sum(a=1, b=2, c=3)\n",
    "# print(d)"
   ]
  },
  {
   "cell_type": "code",
   "execution_count": 50,
   "id": "403cbe5f",
   "metadata": {},
   "outputs": [
    {
     "name": "stdout",
     "output_type": "stream",
     "text": [
      "1\n",
      "<class 'int'>\n"
     ]
    }
   ],
   "source": [
    "a=1\n",
    "print(a)\n",
    "print(type(a))\n"
   ]
  },
  {
   "cell_type": "code",
   "execution_count": 51,
   "id": "6d7f1eda",
   "metadata": {},
   "outputs": [
    {
     "ename": "TypeError",
     "evalue": "type.__new__(X): X is not a type object (int)",
     "output_type": "error",
     "traceback": [
      "\u001b[1;31m---------------------------------------------------------------------------\u001b[0m",
      "\u001b[1;31mTypeError\u001b[0m                                 Traceback (most recent call last)",
      "Input \u001b[1;32mIn [51]\u001b[0m, in \u001b[0;36m<cell line: 1>\u001b[1;34m()\u001b[0m\n\u001b[1;32m----> 1\u001b[0m \u001b[38;5;28;43mtype\u001b[39;49m\u001b[38;5;241;43m.\u001b[39;49m\u001b[38;5;21;43m__new__\u001b[39;49m\u001b[43m(\u001b[49m\u001b[43ma\u001b[49m\u001b[43m)\u001b[49m\n",
      "\u001b[1;31mTypeError\u001b[0m: type.__new__(X): X is not a type object (int)"
     ]
    }
   ],
   "source": []
  },
  {
   "cell_type": "code",
   "execution_count": null,
   "id": "66817069",
   "metadata": {},
   "outputs": [],
   "source": []
  }
 ],
 "metadata": {
  "kernelspec": {
   "display_name": "Python 3 (ipykernel)",
   "language": "python",
   "name": "python3"
  },
  "language_info": {
   "codemirror_mode": {
    "name": "ipython",
    "version": 3
   },
   "file_extension": ".py",
   "mimetype": "text/x-python",
   "name": "python",
   "nbconvert_exporter": "python",
   "pygments_lexer": "ipython3",
   "version": "3.9.12"
  }
 },
 "nbformat": 4,
 "nbformat_minor": 5
}
