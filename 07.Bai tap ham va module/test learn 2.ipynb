{
 "cells": [
  {
   "cell_type": "code",
   "execution_count": null,
   "id": "a044a20e",
   "metadata": {},
   "outputs": [],
   "source": [
    "a=1\n",
    "print(id(a))\n",
    "print(type(a))\n",
    "b=2/2\n",
    "print(id(b))\n",
    "print(type(b))\n",
    "c=2/2\n",
    "print(id(c))\n",
    "print(type(c))\n",
    "d=a==c\n",
    "print(d)\n",
    "b is c"
   ]
  },
  {
   "cell_type": "code",
   "execution_count": null,
   "id": "050056f9",
   "metadata": {},
   "outputs": [],
   "source": [
    "def hien_thi(ten, tuoi, que_quan='HCM'):\n",
    "    print(f'Toi ten la: {ten}, tuoi: {tuoi}, que: {que_quan}')\n",
    "hien_thi('Codegym', 20)\n",
    "print(hien_thi.__doc__)"
   ]
  },
  {
   "cell_type": "code",
   "execution_count": null,
   "id": "dc78b5c0",
   "metadata": {},
   "outputs": [],
   "source": [
    "def sum(*x):\n",
    "#     for i in range(2):\n",
    "#     print(id(**x))\n",
    "    print(type(x))\n",
    "    print(*x)\n",
    "#         s += **kwargs\n",
    "#     return s\n",
    "\n",
    "# x={'a':1, 'b':2, 'c':3}\n",
    "# d = sum(x)\n",
    "sum(a=1, b=2, c=3)\n",
    "# print(d)"
   ]
  },
  {
   "cell_type": "code",
   "execution_count": null,
   "id": "2de6d3de",
   "metadata": {},
   "outputs": [],
   "source": [
    "def sum(*x):\n",
    "#     for i in range(2):\n",
    "    print(x)\n",
    "#         s += **kwargs\n",
    "#     return s\n",
    "# d = sum(x)\n",
    "sum(a=1, b=2, c=3)\n",
    "# print(d)"
   ]
  },
  {
   "cell_type": "code",
   "execution_count": null,
   "id": "403cbe5f",
   "metadata": {},
   "outputs": [],
   "source": [
    "a=1\n",
    "print(a)\n",
    "print(type(a))\n"
   ]
  },
  {
   "cell_type": "code",
   "execution_count": null,
   "id": "6d7f1eda",
   "metadata": {},
   "outputs": [],
   "source": [
    "import turtle\n",
    "square=turtle.Turtle()\n",
    "def draw_square(angle):\n",
    "    for i in range(3):\n",
    "        square.forward(100)\n",
    "        square.right(90)\n",
    "    square.forward(100)\n",
    "    square.right(90+angle)\n",
    "step=36\n",
    "angle=360/step\n",
    "for i in range(step):\n",
    "    draw_square(angle)\n",
    "turtle.done()"
   ]
  },
  {
   "cell_type": "code",
   "execution_count": 1,
   "id": "66817069",
   "metadata": {},
   "outputs": [
    {
     "name": "stdout",
     "output_type": "stream",
     "text": [
      "Fruits inside function ['Orange', 'Apple', 'Grapes', 'Mango']\n",
      "Fruits outside function ['Orange', 'Apple', 'Grapes', 'Mango']\n"
     ]
    }
   ],
   "source": [
    "fruits = [\"Orange\", \"Apple\", \"Grapes\"]\n",
    "\n",
    "def add_fruit(fruits, fruit_to_add):    \n",
    "    fruits.append(fruit_to_add)    \n",
    "    print('Fruits inside function', fruits)\n",
    "\n",
    "fruit_to_add = \"Mango\"\n",
    "add_fruit(fruits, fruit_to_add)\n",
    "print('Fruits outside function', fruits)"
   ]
  },
  {
   "cell_type": "code",
   "execution_count": null,
   "id": "baf65907",
   "metadata": {},
   "outputs": [],
   "source": []
  }
 ],
 "metadata": {
  "kernelspec": {
   "display_name": "Python 3 (ipykernel)",
   "language": "python",
   "name": "python3"
  },
  "language_info": {
   "codemirror_mode": {
    "name": "ipython",
    "version": 3
   },
   "file_extension": ".py",
   "mimetype": "text/x-python",
   "name": "python",
   "nbconvert_exporter": "python",
   "pygments_lexer": "ipython3",
   "version": "3.9.12"
  }
 },
 "nbformat": 4,
 "nbformat_minor": 5
}
