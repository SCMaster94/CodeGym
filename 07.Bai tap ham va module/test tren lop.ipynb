{
 "cells": [
  {
   "cell_type": "code",
   "execution_count": null,
   "id": "4365f349",
   "metadata": {},
   "outputs": [],
   "source": [
    "def in_bang_cuu_chuong(num):\n",
    "    tich=1\n",
    "    for i in range (1,10):\n",
    "        tich=num*i\n",
    "        print(\"{num}*{i}={tich}\".format(num=num,i=i,tich=tich))\n",
    "n=int(input(\"Nhap so can xuat bang cuu chuong: \"))\n",
    "in_bang_cuu_chuong(n)\n",
    "        "
   ]
  },
  {
   "cell_type": "code",
   "execution_count": null,
   "id": "ae40c3e0",
   "metadata": {},
   "outputs": [],
   "source": [
    "import turtle\n",
    "def draw_square(canh,goc):\n",
    "    t=turtle.Turtle()  \n",
    "    for i in range (int(360/goc)):\n",
    "        t.fd(canh)\n",
    "        t.lt(goc)\n",
    "    t.turtle.done\n",
    "a=int(input(\"Nhap chieu dai canh: \"))\n",
    "angle=int(input(\"Nhap goc cua da giac: \"))\n",
    "draw_square(a,angle)"
   ]
  },
  {
   "cell_type": "code",
   "execution_count": null,
   "id": "f3e9d8c8",
   "metadata": {},
   "outputs": [],
   "source": [
    "def tong_uoc_so(num):\n",
    "    total=0\n",
    "    for i in range(1,num+1):\n",
    "        if num%i==0:\n",
    "            total+=i\n",
    "    return(total)\n",
    "n=int(input(\"Nhap so can tinh tong uoc: \"))\n",
    "total=tong_uoc_so(n)\n",
    "print(\"Tong uoc can tinh la: {total}\".format(total=total))"
   ]
  },
  {
   "cell_type": "code",
   "execution_count": null,
   "id": "60b206b9",
   "metadata": {},
   "outputs": [],
   "source": [
    "import turtle\n",
    "import math\n",
    "def draw_square(canh,goc):\n",
    "    t=turtle.Turtle()\n",
    "    t.penup()\n",
    "    t.lt(90-goc)\n",
    "    t.fd(canh/(2*math.cos(math.radians(goc/2))))\n",
    "    t.lt(goc/2)\n",
    "    t.pendown()  \n",
    "    for i in range (int(360/goc)):\n",
    "        t.fd(canh)\n",
    "        t.lt(goc)\n",
    "    t.turtle.done()\n",
    "a=int(input(\"Nhap chieu dai canh: \"))\n",
    "angle=int(input(\"Nhap goc cua da giac: \"))\n",
    "draw_square(a,angle)"
   ]
  },
  {
   "cell_type": "code",
   "execution_count": 6,
   "id": "2937c9d8",
   "metadata": {},
   "outputs": [
    {
     "name": "stdout",
     "output_type": "stream",
     "text": [
      "1257709398320\n",
      "1257709398352\n",
      "1257709398320\n",
      "1257709398320\n",
      "1257709398352\n"
     ]
    }
   ],
   "source": [
    "a=1\n",
    "print(id(a))\n",
    "a=2\n",
    "print(id(a))\n",
    "a=1\n",
    "print(id(a))\n",
    "b=1\n",
    "print(id(b))\n",
    "b=1+1\n",
    "print(id(b))"
   ]
  },
  {
   "cell_type": "code",
   "execution_count": 8,
   "id": "3d787d12",
   "metadata": {},
   "outputs": [
    {
     "name": "stdout",
     "output_type": "stream",
     "text": [
      "1257709398320\n",
      "1257794742224\n",
      "1257795860240\n"
     ]
    }
   ],
   "source": [
    "a=1\n",
    "print(id(a))\n",
    "b=2/2\n",
    "print(id(b))\n",
    "c=4/4\n",
    "print(id(c))"
   ]
  },
  {
   "cell_type": "code",
   "execution_count": null,
   "id": "1bb20fdb",
   "metadata": {},
   "outputs": [],
   "source": []
  }
 ],
 "metadata": {
  "kernelspec": {
   "display_name": "Python 3 (ipykernel)",
   "language": "python",
   "name": "python3"
  },
  "language_info": {
   "codemirror_mode": {
    "name": "ipython",
    "version": 3
   },
   "file_extension": ".py",
   "mimetype": "text/x-python",
   "name": "python",
   "nbconvert_exporter": "python",
   "pygments_lexer": "ipython3",
   "version": "3.9.12"
  }
 },
 "nbformat": 4,
 "nbformat_minor": 5
}
