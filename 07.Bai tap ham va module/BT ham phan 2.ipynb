{
 "cells": [
  {
   "cell_type": "code",
   "execution_count": null,
   "id": "f0d99923",
   "metadata": {},
   "outputs": [],
   "source": [
    "#1\n",
    "def max_common_divisor(a,b):\n",
    "    max_divisor=1\n",
    "    for i in range (1, max(a,b)//2+1):\n",
    "        if a%i==0 and b%i==0 and i>max_divisor:\n",
    "            max_divisor=i\n",
    "    return max_divisor\n",
    "while True:\n",
    "    a=int(input(\"Nhap so thu nhat: \"))\n",
    "    b=int(input(\"Nhap so thu nhat: \"))\n",
    "    if min(a,b)>0:\n",
    "        break\n",
    "    else:\n",
    "        print(\"Vui long nhap so nguyen\")\n",
    "uoc_chung_lon_nhat=max_common_divisor(a,b)\n",
    "print(uoc_chung_lon_nhat)            \n",
    "    "
   ]
  },
  {
   "cell_type": "code",
   "execution_count": null,
   "id": "b0417ce5",
   "metadata": {},
   "outputs": [],
   "source": [
    "#2\n",
    "def armstrong(n):\n",
    "    n_str=str(n)\n",
    "    f=0\n",
    "    for i in range (len(n_str)):\n",
    "        f+=int(n_str[i])**len(n_str)\n",
    "    check=f==n\n",
    "    return check\n",
    "try:\n",
    "    a=int(input(\"Nhap so can check: \"))\n",
    "except:\n",
    "    print(\"Vui long nhap so nguyen!\")\n",
    "check=armstrong(a)\n",
    "print(check)"
   ]
  },
  {
   "cell_type": "code",
   "execution_count": null,
   "id": "f1ecae02",
   "metadata": {},
   "outputs": [],
   "source": [
    "def armstrong(a):\n",
    "    a_str=str(a)\n",
    "    f=0\n",
    "    for i in range (len(a_str)):\n",
    "        f+=int(a_str[i])**len(a_str)\n",
    "    check=f==a\n",
    "    return check\n",
    "def check(n):\n",
    "    for i in range(n):\n",
    "        if armstrong(i):\n",
    "            print(i)\n",
    "try:\n",
    "    n=int(input(\"Nhap so n: \"))\n",
    "except:\n",
    "    print(\"Vui long nhap so nguyen!\")\n",
    "\n",
    "check(n)"
   ]
  },
  {
   "cell_type": "code",
   "execution_count": 7,
   "id": "22db22b5",
   "metadata": {},
   "outputs": [
    {
     "name": "stdout",
     "output_type": "stream",
     "text": [
      "Nhap n: 20\n",
      "0\n",
      "1\n",
      "1\n",
      "2\n",
      "3\n",
      "5\n",
      "8\n",
      "13\n"
     ]
    }
   ],
   "source": [
    "#4\n",
    "# def fibonacci(a=0,b=1,n=20):\n",
    "n=int(input(\"Nhap n: \"))\n",
    "a=0\n",
    "b=1\n",
    "while a<n:\n",
    "    print(a)\n",
    "    c=b+a\n",
    "    a=b\n",
    "    b=c\n",
    "# n=int(input(\"Nhap n: \"))\n",
    "# fibonacci(n)\n",
    "\n"
   ]
  },
  {
   "cell_type": "code",
   "execution_count": 16,
   "id": "99b354be",
   "metadata": {},
   "outputs": [
    {
     "name": "stdout",
     "output_type": "stream",
     "text": [
      "Nhap n: 110\n",
      "0, 1, 1, 2, 3, 5, 8, 13, 21, 34, 55, 89, "
     ]
    }
   ],
   "source": [
    "#4\n",
    "def fibonacci(a=0,b=1,n=0):\n",
    "    while a<n:\n",
    "        print(a, end=\", \")\n",
    "        c=b+a\n",
    "        a=b\n",
    "        b=c\n",
    "n=int(input(\"Nhap n: \"))\n",
    "fibonacci(n=n)"
   ]
  },
  {
   "cell_type": "code",
   "execution_count": null,
   "id": "e8983158",
   "metadata": {},
   "outputs": [],
   "source": []
  }
 ],
 "metadata": {
  "kernelspec": {
   "display_name": "Python 3 (ipykernel)",
   "language": "python",
   "name": "python3"
  },
  "language_info": {
   "codemirror_mode": {
    "name": "ipython",
    "version": 3
   },
   "file_extension": ".py",
   "mimetype": "text/x-python",
   "name": "python",
   "nbconvert_exporter": "python",
   "pygments_lexer": "ipython3",
   "version": "3.9.12"
  }
 },
 "nbformat": 4,
 "nbformat_minor": 5
}
