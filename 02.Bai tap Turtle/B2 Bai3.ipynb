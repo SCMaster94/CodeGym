{
 "cells": [
  {
   "cell_type": "code",
   "execution_count": null,
   "id": "4990b70f",
   "metadata": {},
   "outputs": [],
   "source": [
    "import turtle\n",
    "h=turtle.Turtle()\n",
    "canh=100\n",
    "tang=80\n",
    "\n",
    "h.color('red')\n",
    "h.fd(canh)\n",
    "h.rt(90)\n",
    "h.fd(canh)\n",
    "h.rt(90)\n",
    "h.fd(canh)\n",
    "h.rt(90)\n",
    "h.fd(canh)\n",
    "h.rt(90)\n",
    "\n",
    "h.color('blue')\n",
    "h.penup()\n",
    "h.lt(90)\n",
    "h.fd(tang/2)\n",
    "h.lt(90)\n",
    "h.fd(tang/2)\n",
    "h.pendown()\n",
    "canh=canh+tang\n",
    "h.rt(180)\n",
    "h.fd(canh)\n",
    "h.rt(90)\n",
    "h.fd(canh)\n",
    "h.rt(90)\n",
    "h.fd(canh)\n",
    "h.rt(90)\n",
    "h.fd(canh)\n",
    "h.rt(90)\n",
    "\n",
    "h.color('yellow')\n",
    "h.penup()\n",
    "h.lt(90)\n",
    "h.fd(tang/2)\n",
    "h.lt(90)\n",
    "h.fd(tang/2)\n",
    "h.pendown()\n",
    "canh=canh+tang\n",
    "h.rt(180)\n",
    "h.fd(canh)\n",
    "h.rt(90)\n",
    "h.fd(canh)\n",
    "h.rt(90)\n",
    "h.fd(canh)\n",
    "h.rt(90)\n",
    "h.fd(canh)\n",
    "h.rt(90)\n",
    "\n",
    "turtle.done()\n"
   ]
  },
  {
   "cell_type": "code",
   "execution_count": null,
   "id": "f2984fe8",
   "metadata": {},
   "outputs": [],
   "source": []
  }
 ],
 "metadata": {
  "kernelspec": {
   "display_name": "Python 3 (ipykernel)",
   "language": "python",
   "name": "python3"
  },
  "language_info": {
   "codemirror_mode": {
    "name": "ipython",
    "version": 3
   },
   "file_extension": ".py",
   "mimetype": "text/x-python",
   "name": "python",
   "nbconvert_exporter": "python",
   "pygments_lexer": "ipython3",
   "version": "3.9.12"
  }
 },
 "nbformat": 4,
 "nbformat_minor": 5
}
