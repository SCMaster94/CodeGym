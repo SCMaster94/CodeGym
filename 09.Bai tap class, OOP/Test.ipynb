{
 "cells": [
  {
   "cell_type": "code",
   "execution_count": 28,
   "id": "4d3014be",
   "metadata": {},
   "outputs": [
    {
     "name": "stdout",
     "output_type": "stream",
     "text": [
      "('2', 3)\n",
      "ghi de phuong thuc cha\n",
      "oto3\n"
     ]
    }
   ],
   "source": [
    "class oto:\n",
    "    def __init__(self, ten, dong_co):\n",
    "        self.ten=ten\n",
    "        self.dong_co=dong_co\n",
    "    def m1(self, a, b):\n",
    "        self.a=a\n",
    "        self.b=b\n",
    "        return a, b\n",
    "class BMW(oto):\n",
    "    def m2(self):\n",
    "        print('phuong thuc con')\n",
    "    def m1(self):\n",
    "        print('ghi de phuong thuc cha')\n",
    "class MEC(oto):\n",
    "    def m2(self):\n",
    "        print('phuong thuc con')\n",
    "    def m1(self):\n",
    "        a=super().m1('2',3)\n",
    "        print(a)\n",
    "        print('ghi de phuong thuc cha')\n",
    "# oto1=oto('oto1', 'v100')\n",
    "# oto1.m1()\n",
    "# oto2=BMW('oto2', 'v200')\n",
    "# oto2.m1()\n",
    "\n",
    "oto3=MEC('oto3', 'v300')\n",
    "oto3.m1()\n",
    "print(oto3.ten)\n"
   ]
  },
  {
   "cell_type": "code",
   "execution_count": 29,
   "id": "a5aa6cab",
   "metadata": {},
   "outputs": [
    {
     "ename": "AttributeError",
     "evalue": "'str' object has no attribute 'isnumric'",
     "output_type": "error",
     "traceback": [
      "\u001b[1;31m---------------------------------------------------------------------------\u001b[0m",
      "\u001b[1;31mAttributeError\u001b[0m                            Traceback (most recent call last)",
      "Input \u001b[1;32mIn [29]\u001b[0m, in \u001b[0;36m<cell line: 2>\u001b[1;34m()\u001b[0m\n\u001b[0;32m      1\u001b[0m i\u001b[38;5;241m=\u001b[39m\u001b[38;5;124m'\u001b[39m\u001b[38;5;124ms1234\u001b[39m\u001b[38;5;124m'\u001b[39m\n\u001b[1;32m----> 2\u001b[0m \u001b[43mi\u001b[49m\u001b[38;5;241;43m.\u001b[39;49m\u001b[43misnumric\u001b[49m()\n",
      "\u001b[1;31mAttributeError\u001b[0m: 'str' object has no attribute 'isnumric'"
     ]
    }
   ],
   "source": [
    "i='s1234'\n",
    "i.isnumric()"
   ]
  },
  {
   "cell_type": "code",
   "execution_count": null,
   "id": "04be9e8d",
   "metadata": {},
   "outputs": [],
   "source": []
  }
 ],
 "metadata": {
  "kernelspec": {
   "display_name": "Python 3 (ipykernel)",
   "language": "python",
   "name": "python3"
  },
  "language_info": {
   "codemirror_mode": {
    "name": "ipython",
    "version": 3
   },
   "file_extension": ".py",
   "mimetype": "text/x-python",
   "name": "python",
   "nbconvert_exporter": "python",
   "pygments_lexer": "ipython3",
   "version": "3.9.12"
  }
 },
 "nbformat": 4,
 "nbformat_minor": 5
}
