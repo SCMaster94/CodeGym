{
 "cells": [
  {
   "cell_type": "code",
   "execution_count": 10,
   "id": "9f58d2ec",
   "metadata": {},
   "outputs": [
    {
     "name": "stdout",
     "output_type": "stream",
     "text": [
      "Nhap so nguyen hoac bam Q de ke thuc: 1\n",
      "Nhap so nguyen hoac bam Q de ke thuc: 3\n",
      "Nhap so nguyen hoac bam Q de ke thuc: 34\n",
      "Nhap so nguyen hoac bam Q de ke thuc: 6\n",
      "Nhap so nguyen hoac bam Q de ke thuc: q\n",
      "So nho nhat la 1, so lon nhat la 34\n"
     ]
    }
   ],
   "source": [
    "#1\n",
    "nums=[]\n",
    "while True:\n",
    "    num=input(\"Nhap so nguyen hoac bam Q de ke thuc: \")\n",
    "    if num=='Q' or num=='q':\n",
    "        break\n",
    "    nums.append(int(num))\n",
    "def min_max(nums):\n",
    "    num_min=nums[0]\n",
    "    num_max=0\n",
    "    for i in nums:\n",
    "        if i<num_min:\n",
    "            num_min=i\n",
    "        if i>num_max:\n",
    "            num_max=i\n",
    "    return(num_min, num_max)\n",
    "num_min, num_max=min_max(nums)\n",
    "print(f'So nho nhat la {num_min}, so lon nhat la {num_max}')"
   ]
  },
  {
   "cell_type": "code",
   "execution_count": 19,
   "id": "30f26738",
   "metadata": {},
   "outputs": [
    {
     "name": "stdout",
     "output_type": "stream",
     "text": [
      "Nhap so nguyen hoac bam Q de ke thuc: 1\n",
      "Nhap so nguyen hoac bam Q de ke thuc: 2\n",
      "Nhap so nguyen hoac bam Q de ke thuc: 153\n",
      "Nhap so nguyen hoac bam Q de ke thuc: 1533\n",
      "Nhap so nguyen hoac bam Q de ke thuc: 153\n",
      "Nhap so nguyen hoac bam Q de ke thuc: 3\n",
      "Nhap so nguyen hoac bam Q de ke thuc: q\n",
      "i khong phai\n",
      "[1, 2, 153, 153, 3]\n",
      "Tong cac so Armstrong trong day da nhap la: 312\n"
     ]
    }
   ],
   "source": [
    "#2\n",
    "nums=[]\n",
    "while True:\n",
    "    num=input(\"Nhap so nguyen hoac bam Q de ke thuc: \")\n",
    "    if num=='Q' or num=='q':\n",
    "        break\n",
    "    nums.append(int(num))\n",
    "def armstrong(nums):\n",
    "    arm=[]\n",
    "    for i in nums:\n",
    "        sum=0\n",
    "        for j in range (len(str(i))):\n",
    "            sum+=int(str(i)[j])**len(str(i))\n",
    "        if sum==i:\n",
    "            arm.append(i)\n",
    "    return arm\n",
    "def summ(arm):\n",
    "    summ=0\n",
    "    for i in arm:\n",
    "        summ+=i\n",
    "    return(summ)\n",
    "result=summ(armstrong(nums))\n",
    "print(f'Tong cac so Armstrong trong day da nhap la: {result}')\n",
    "# armstrong(nums)"
   ]
  },
  {
   "cell_type": "code",
   "execution_count": 1,
   "id": "47478c1e",
   "metadata": {},
   "outputs": [
    {
     "data": {
      "text/plain": [
       "False"
      ]
     },
     "execution_count": 1,
     "metadata": {},
     "output_type": "execute_result"
    }
   ],
   "source": [
    "#11\n",
    "a=[]\n",
    "b=[1,2,3,4]\n",
    "b in a"
   ]
  },
  {
   "cell_type": "code",
   "execution_count": null,
   "id": "98681131",
   "metadata": {},
   "outputs": [],
   "source": []
  }
 ],
 "metadata": {
  "kernelspec": {
   "display_name": "Python 3 (ipykernel)",
   "language": "python",
   "name": "python3"
  },
  "language_info": {
   "codemirror_mode": {
    "name": "ipython",
    "version": 3
   },
   "file_extension": ".py",
   "mimetype": "text/x-python",
   "name": "python",
   "nbconvert_exporter": "python",
   "pygments_lexer": "ipython3",
   "version": "3.9.12"
  }
 },
 "nbformat": 4,
 "nbformat_minor": 5
}
