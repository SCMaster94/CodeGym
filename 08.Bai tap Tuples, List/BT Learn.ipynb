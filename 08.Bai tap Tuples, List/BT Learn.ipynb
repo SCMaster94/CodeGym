{
 "cells": [
  {
   "cell_type": "code",
   "execution_count": null,
   "id": "8bae5ad8",
   "metadata": {
    "scrolled": true
   },
   "outputs": [],
   "source": [
    "import turtle as m\n",
    "import random\n",
    "\n",
    "screen=m.Screen()\n",
    "screen.setup(height=500, width=600)\n",
    "\n",
    "guess=screen.textinput(prompt=\"Du doan con rua nao chien thang?\",title=\"Nhap vao mau rua(do, nau, xanh duong, xanh la, cam, hong)\")\n",
    "colors=[\"red\", \"brown\", \"blue\", \"green\", \"orange\", \"pink\"]\n",
    "y_pos=[0, -30, 30, -60, 60, 90]\n",
    "turtle_speed=[10,15,20,25,30,5]\n",
    "all_turtles=[]\n",
    "run=True\n",
    "for turtle in range (0,6):\n",
    "    turtles=m.Turtle(shape=\"turtle\")\n",
    "    turtles.penup()\n",
    "    turtles.goto(x=-250, y=y_pos[turtle])\n",
    "    turtles.color(colors[turtle])\n",
    "    all_turtles.append(turtles)\n",
    "def random_walk(turtles):\n",
    "    global run\n",
    "    for turtle in turtles:\n",
    "        turtle.forward(random.choice(turtle_speed))\n",
    "        if turtle.xcor()>250:\n",
    "            run = False\n",
    "while run:\n",
    "    random_walk(all_turtles)\n",
    "screen.exitonclick()"
   ]
  },
  {
   "cell_type": "code",
   "execution_count": null,
   "id": "5838d8e6",
   "metadata": {},
   "outputs": [],
   "source": [
    "n=input(\"Nhap day chu so: \")\n",
    "text=(\"khong\", \"mot\", \"hai\", \"ba\", \"bon\", \"nam\", \"sau\", \"bay\", \"tam\", \"chin\")\n",
    "for i in n:\n",
    "    print(text[int(i)], end=' ')"
   ]
  },
  {
   "cell_type": "code",
   "execution_count": null,
   "id": "9d03a949",
   "metadata": {},
   "outputs": [],
   "source": [
    "import turtle as m\n",
    "import random\n",
    "\n",
    "screen=m.Screen()\n",
    "screen.setup(height=500, width=600)\n",
    "pen=m.Turtle()\n",
    "pen.speed(1)\n",
    "def draw_line(so_lan_dua=5, space=10):\n",
    "    a=stad_height/(so_lan_dua*2)\n",
    "    b=(stad_height/(so_lan_dua*2)*space/100)\n",
    "    c=a-b\n",
    "    pen.forward(b)\n",
    "    pen.pendown()\n",
    "    pen.forward(c)\n",
    "    pen.penup()\n",
    "    pen.forward(b)\n",
    "#     print(a, b, c)\n",
    "stad_height=450\n",
    "stad_width=510\n",
    "X=-stad_width//2\n",
    "Y=-stad_height//2\n",
    "# pen.penup()\n",
    "pen.goto(X,Y)\n",
    "\n",
    "pen.left(90)\n",
    "\n",
    "so_lane_dua=6\n",
    "y_pos=[]\n",
    "for i in range (20):\n",
    "    X+=stad_width//(so_lane_dua*2)\n",
    "    Y=-stad_height//2\n",
    "    for j in range (so_lane_dua*2):\n",
    "        Y+=stad_height//(so_lane_dua*2)  \n",
    "        pen.goto(X,Y)\n",
    "        print(X,Y)\n",
    "        draw_line(so_lan_dua=so_lane_dua)\n",
    "       "
   ]
  },
  {
   "cell_type": "code",
   "execution_count": null,
   "id": "54b10f9c",
   "metadata": {},
   "outputs": [],
   "source": []
  }
 ],
 "metadata": {
  "kernelspec": {
   "display_name": "Python 3 (ipykernel)",
   "language": "python",
   "name": "python3"
  },
  "language_info": {
   "codemirror_mode": {
    "name": "ipython",
    "version": 3
   },
   "file_extension": ".py",
   "mimetype": "text/x-python",
   "name": "python",
   "nbconvert_exporter": "python",
   "pygments_lexer": "ipython3",
   "version": "3.9.12"
  }
 },
 "nbformat": 4,
 "nbformat_minor": 5
}
