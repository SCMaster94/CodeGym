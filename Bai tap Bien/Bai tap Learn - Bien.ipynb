{
 "cells": [
  {
   "cell_type": "code",
   "execution_count": 1,
   "id": "99c0c3e8",
   "metadata": {},
   "outputs": [
    {
     "ename": "AttributeError",
     "evalue": "module 'turtle' has no attribute 'mainloo'",
     "output_type": "error",
     "traceback": [
      "\u001b[1;31m---------------------------------------------------------------------------\u001b[0m",
      "\u001b[1;31mAttributeError\u001b[0m                            Traceback (most recent call last)",
      "Input \u001b[1;32mIn [1]\u001b[0m, in \u001b[0;36m<cell line: 32>\u001b[1;34m()\u001b[0m\n\u001b[0;32m     30\u001b[0m turtle\u001b[38;5;241m.\u001b[39mright(\u001b[38;5;241m90\u001b[39m)\n\u001b[0;32m     31\u001b[0m turtle\u001b[38;5;241m.\u001b[39mcircle(\u001b[38;5;241m100\u001b[39m,\u001b[38;5;241m180\u001b[39m)\n\u001b[1;32m---> 32\u001b[0m \u001b[43mturtle\u001b[49m\u001b[38;5;241;43m.\u001b[39;49m\u001b[43mmainloo\u001b[49m()\n",
      "\u001b[1;31mAttributeError\u001b[0m: module 'turtle' has no attribute 'mainloo'"
     ]
    }
   ],
   "source": [
    "#bai tap ve mat cuoi\n",
    "import turtle\n",
    "turtle.pensize(5)\n",
    "turtle.pencolor(\"Blue\")\n",
    "facesize=200\n",
    "turtle.penup()\n",
    "turtle.goto(0,-200)\n",
    "turtle.pendown()\n",
    "turtle.circle(facesize)\n",
    "turtle.fillcolor(\"red\")\n",
    "turtle.penup()\n",
    "turtle.goto(-100,50)\n",
    "turtle.pendown()\n",
    "eye_size=17.5\n",
    "turtle.begin_fill()\n",
    "turtle.circle(eye_size)\n",
    "turtle.end_fill()\n",
    "turtle.penup()\n",
    "turtle.goto(100,50)\n",
    "turtle.pendown()\n",
    "turtle.begin_fill()\n",
    "turtle.circle(eye_size)\n",
    "turtle.end_fill()\n",
    "\n",
    "turtle.penup()\n",
    "turtle.goto(0,50)\n",
    "turtle.pendown()\n",
    "turtle.circle(-70, steps=3)\n",
    "\n",
    "turtle.penup()\n",
    "turtle.goto(-100,-70)\n",
    "turtle.pendown()\n",
    "turtle.right(90)\n",
    "turtle.circle(100,180)\n",
    "turtle.mainloo()\n"
   ]
  },
  {
   "cell_type": "code",
   "execution_count": 1,
   "id": "d11ca0ed",
   "metadata": {},
   "outputs": [
    {
     "name": "stdout",
     "output_type": "stream",
     "text": [
      "Enter the length of side a: 3\n",
      "Enter the length of side b: 5\n",
      "Enter the length of side c: 6\n",
      "Area of the triangle is:  7.483314773547883\n"
     ]
    }
   ],
   "source": [
    "#bai tap tinh dien tich tam giac\n",
    "import math\n",
    "a=float(input(\"Enter the length of side a: \"))\n",
    "b=float(input(\"Enter the length of side b: \"))\n",
    "c=float(input(\"Enter the length of side c: \"))\n",
    "s=(a+b+c)/2\n",
    "area=math.sqrt(s*(s-a)*(s-b)*(s-c))\n",
    "print(\"Area of the triangle is: \", area)"
   ]
  },
  {
   "cell_type": "code",
   "execution_count": null,
   "id": "3d88b444",
   "metadata": {},
   "outputs": [],
   "source": [
    "#bai tap doi nhiet do\n",
    "c=input(\"Enter temperature in Centigrade: \")\n",
    "f=int(c)*1.8+32\n",
    "print(\"Temperature in Fahrenheit is: \", f)"
   ]
  }
 ],
 "metadata": {
  "kernelspec": {
   "display_name": "Python 3 (ipykernel)",
   "language": "python",
   "name": "python3"
  },
  "language_info": {
   "codemirror_mode": {
    "name": "ipython",
    "version": 3
   },
   "file_extension": ".py",
   "mimetype": "text/x-python",
   "name": "python",
   "nbconvert_exporter": "python",
   "pygments_lexer": "ipython3",
   "version": "3.9.12"
  }
 },
 "nbformat": 4,
 "nbformat_minor": 5
}
