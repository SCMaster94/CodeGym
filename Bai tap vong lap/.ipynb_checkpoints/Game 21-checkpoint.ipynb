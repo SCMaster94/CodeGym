{
 "cells": [
  {
   "cell_type": "code",
   "execution_count": 1,
   "id": "df5e9032",
   "metadata": {},
   "outputs": [
    {
     "name": "stdout",
     "output_type": "stream",
     "text": [
      "computer\n",
      "Computer da chon: 2\n",
      "Nhap so tu 1 toi 3: 3\n",
      "Computer da chon: 3\n",
      "Nhap so tu 1 toi 3: 3\n",
      "Computer da chon: 3\n",
      "Nhap so tu 1 toi 3: 3\n",
      "Computer da chon: 3\n",
      "Nhap so tu 1 toi 3: 3\n",
      "So diem la: 23\n",
      "Ban da thua!\n",
      "Ban muon choi tiep khong?\n",
      " '['y']'or'['n']'y\n",
      "computer\n",
      "Computer da chon: 3\n",
      "Nhap so tu 1 toi 3: 2\n",
      "Computer da chon: 2\n",
      "Nhap so tu 1 toi 3: 1\n",
      "Computer da chon: 3\n",
      "Nhap so tu 1 toi 3: 3\n",
      "Computer da chon: 1\n",
      "Nhap so tu 1 toi 3: 2\n",
      "Computer da chon: 2\n",
      "Nhap so tu 1 toi 3: 1\n",
      "Computer da chon: 1\n",
      "So diem la: 21\n",
      "Ban da thang!\n",
      "Ban muon choi tiep khong?\n",
      " '['y']'or'['n']'n\n"
     ]
    }
   ],
   "source": [
    "#Game 21\n",
    "import random\n",
    "while True:\n",
    "    current_number=0\n",
    "    current_player=random.randint(0,1)\n",
    "    if current_player==0:\n",
    "        current_player=\"human\"\n",
    "    else:\n",
    "        current_player=\"computer\"\n",
    "    print(current_player)\n",
    "    while current_number<21:\n",
    "        if current_player==\"human\":\n",
    "            while True:\n",
    "                player_choice=int(input(\"Nhap so tu 1 toi 3: \"))\n",
    "                if player_choice in [1,2,3]:\n",
    "                    break\n",
    "            current_number+=player_choice\n",
    "            if current_number >=21:\n",
    "                print(\"So diem la: {}\".format(current_number))\n",
    "                print(\"Ban da thua!\")\n",
    "            else:\n",
    "                current_player='computer'\n",
    "        elif current_player==\"computer\":\n",
    "            computer_choice=random.randint(1,3)\n",
    "            print(\"Computer da chon: {computer_choice}\".format(computer_choice=computer_choice))\n",
    "            current_number+=computer_choice\n",
    "            if current_number >=21:\n",
    "                print(\"So diem la: {}\".format(current_number))\n",
    "                print(\"Ban da thang!\")\n",
    "            else:\n",
    "                current_player='human' \n",
    "    else:\n",
    "        play_again=input(\"Ban muon choi tiep khong?\\n '['y']'or'['n']'\")\n",
    "    if play_again==\"y\":\n",
    "        continue\n",
    "    else:\n",
    "        break"
   ]
  },
  {
   "cell_type": "code",
   "execution_count": null,
   "id": "ceedb352",
   "metadata": {},
   "outputs": [],
   "source": []
  },
  {
   "cell_type": "code",
   "execution_count": null,
   "id": "375235f0",
   "metadata": {},
   "outputs": [],
   "source": []
  }
 ],
 "metadata": {
  "kernelspec": {
   "display_name": "Python 3 (ipykernel)",
   "language": "python",
   "name": "python3"
  },
  "language_info": {
   "codemirror_mode": {
    "name": "ipython",
    "version": 3
   },
   "file_extension": ".py",
   "mimetype": "text/x-python",
   "name": "python",
   "nbconvert_exporter": "python",
   "pygments_lexer": "ipython3",
   "version": "3.9.12"
  }
 },
 "nbformat": 4,
 "nbformat_minor": 5
}
