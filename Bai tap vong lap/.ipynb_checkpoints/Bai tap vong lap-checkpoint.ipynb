{
 "cells": [
  {
   "cell_type": "code",
   "execution_count": null,
   "id": "01df192f",
   "metadata": {
    "scrolled": true
   },
   "outputs": [],
   "source": [
    "#In các số lẻ từ 1-10\n",
    "n=1\n",
    "while n<=10:\n",
    "    if n%2==1:\n",
    "        print(n)\n",
    "    n+=1"
   ]
  },
  {
   "cell_type": "code",
   "execution_count": null,
   "id": "c0cf20c0",
   "metadata": {},
   "outputs": [],
   "source": [
    "#In các số chan từ 1-10\n",
    "n=1\n",
    "while n<=10:\n",
    "    if n%2==0:\n",
    "        print(n)\n",
    "    n+=1"
   ]
  },
  {
   "cell_type": "code",
   "execution_count": null,
   "id": "c0550b16",
   "metadata": {},
   "outputs": [],
   "source": [
    "n=int(input(\"Nhap 1 so tu 1-9: \"))\n",
    "i=1\n",
    "while int(i)<=10:\n",
    "    print(\"{n}*{i}={a}\".format(n=n, i=i, a=n*i))\n",
    "    i+=1"
   ]
  },
  {
   "cell_type": "code",
   "execution_count": null,
   "id": "28978728",
   "metadata": {
    "scrolled": true
   },
   "outputs": [],
   "source": [
    "n=int(input(\"Nhap so dong: \"))\n",
    "i=1\n",
    "while i<=n:\n",
    "    print('*'*i)\n",
    "    i+=1"
   ]
  },
  {
   "cell_type": "code",
   "execution_count": null,
   "id": "b3b730b4",
   "metadata": {},
   "outputs": [],
   "source": [
    "n=int(input(\"Nhap so dong: \"))\n",
    "j=n-1\n",
    "i=1\n",
    "while i<=2*n: \n",
    "    print(' '*j+'*'*i)\n",
    "    i+=2\n",
    "    j-=1   "
   ]
  },
  {
   "cell_type": "code",
   "execution_count": null,
   "id": "f6682b57",
   "metadata": {},
   "outputs": [],
   "source": [
    "n=int(input(\"Nhap so dong: \"))\n",
    "j=n-1\n",
    "i=1\n",
    "while i<=2*n: \n",
    "    print(' '*j+'*'*i)\n",
    "    i+=2\n",
    "    j-=1\n",
    "i-=2\n",
    "j+=1\n",
    "while i>=1: \n",
    "    i-=2\n",
    "    j+=1\n",
    "    print(' '*j+'*'*i)"
   ]
  },
  {
   "cell_type": "code",
   "execution_count": null,
   "id": "eac85b72",
   "metadata": {},
   "outputs": [],
   "source": []
  }
 ],
 "metadata": {
  "kernelspec": {
   "display_name": "Python 3 (ipykernel)",
   "language": "python",
   "name": "python3"
  },
  "language_info": {
   "codemirror_mode": {
    "name": "ipython",
    "version": 3
   },
   "file_extension": ".py",
   "mimetype": "text/x-python",
   "name": "python",
   "nbconvert_exporter": "python",
   "pygments_lexer": "ipython3",
   "version": "3.9.12"
  }
 },
 "nbformat": 4,
 "nbformat_minor": 5
}
