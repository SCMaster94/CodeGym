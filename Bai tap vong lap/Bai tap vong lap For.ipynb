{
 "cells": [
  {
   "cell_type": "code",
   "execution_count": null,
   "id": "f1893f47",
   "metadata": {},
   "outputs": [],
   "source": [
    "#1 tinh giai thua\n",
    "while True:\n",
    "    n=int(input(\"Nhap so can tinh giai thua: \"))\n",
    "    if n>0:\n",
    "        break\n",
    "giai_thua=1\n",
    "for i in range (1, n+1):\n",
    "    giai_thua=giai_thua * i\n",
    "print(\"Giai thua cua {n} la: {giai_thua}\".format(n=n, giai_thua=giai_thua))"
   ]
  },
  {
   "cell_type": "code",
   "execution_count": null,
   "id": "25111bac",
   "metadata": {
    "scrolled": true
   },
   "outputs": [],
   "source": [
    "#2 \n",
    "while True:\n",
    "    x=int(input(\"Nhap x: \"))\n",
    "    y=int(input(\"Nhap y: \"))\n",
    "    if x<y:\n",
    "        break\n",
    "tong=0\n",
    "for i in range (x, y+1):\n",
    "    tong=tong+i*i\n",
    "print(\"Tong binh phuong cac so tu {x} toi {y} la: {tong}\".format(x=x, y=y, tong=tong))"
   ]
  },
  {
   "cell_type": "code",
   "execution_count": null,
   "id": "0fc96085",
   "metadata": {},
   "outputs": [],
   "source": [
    "#3\n",
    "while True:\n",
    "    n=int(input(\"nhap so nguyen duong: \"))\n",
    "    if n>0:\n",
    "        break\n",
    "tong=0\n",
    "for i in range (1, n//2+1):\n",
    "    if n%i==0:\n",
    "        tong=tong+i\n",
    "if n==tong:\n",
    "    print(\"So {n} la so hoan chinh\".format(n=n))\n",
    "else:\n",
    "    print(\"So {n} la so khong hoan chinh\".format(n=n))\n",
    "        "
   ]
  },
  {
   "cell_type": "code",
   "execution_count": null,
   "id": "00772c42",
   "metadata": {
    "scrolled": false
   },
   "outputs": [],
   "source": [
    "#4\n",
    "while True:\n",
    "    a=int(input(\"Nhap a: \"))\n",
    "    b=int(input(\"Nhap b lon hon hoac bang a: \"))\n",
    "    if a>b:\n",
    "        print(\"ban da nhap sai\")\n",
    "    else:\n",
    "        break\n",
    "tich=1\n",
    "tong=0\n",
    "for i in range(a, b+1):\n",
    "    if i%2==0:\n",
    "        tich=tich*i\n",
    "    else:\n",
    "        tong=tong+i\n",
    "print(\"Tong cac so le la:{tong}\\n Tich cac so chan la:{tich}\".format(tong=tong,tich=tich))"
   ]
  },
  {
   "cell_type": "code",
   "execution_count": null,
   "id": "4a57f78e",
   "metadata": {},
   "outputs": [],
   "source": [
    "#5\n",
    "while True:\n",
    "    n=int(input(\"nhap n: \"))\n",
    "    if n>0:\n",
    "        break\n",
    "s=0\n",
    "for i in range(1,n+1):\n",
    "    s=s+1/i\n",
    "S=int(s//0.00001)*0.00001\n",
    "print(\"Gia tri cua chuoi so 1/n la: {S}\".format(S=S))\n",
    "# print(float(\"gia tri cua chuoi la:%.5f\".format(S)))\n"
   ]
  },
  {
   "cell_type": "code",
   "execution_count": null,
   "id": "edda47be",
   "metadata": {},
   "outputs": [],
   "source": [
    "#6\n",
    "n=input(\"Nhap day so: \")\n",
    "str_so=\"\"\n",
    "odd_min=0\n",
    "even_max=0\n",
    "for i in range(0, len(n)):\n",
    "    if n[i].isnumeric():\n",
    "        str_so=str_so+n[i]\n",
    "    else:\n",
    "        if str_so.isnumeric():\n",
    "            so=int(str_so)\n",
    "            if so%2==0:\n",
    "                if so>even_max:\n",
    "                    even_max=so\n",
    "            else:\n",
    "                if odd_min!=0:\n",
    "                    if so<odd_min:\n",
    "                        odd_min=so\n",
    "                else:\n",
    "                    odd_min=so\n",
    "        str_so=\"\"\n",
    "print(\"So chan lon nhat la: {a}\\nSo le nho nhat la:{b}\".format(a=even_max,b=odd_min))"
   ]
  },
  {
   "cell_type": "code",
   "execution_count": null,
   "id": "1c8720c4",
   "metadata": {},
   "outputs": [],
   "source": [
    "#7\n",
    "str1=input(\"Nhap chuoi: \")\n",
    "str2=''\n",
    "while True:\n",
    "    up_down=int(input(\"In hoa thi nhap 0, in thuong thi nhap 1: \"))\n",
    "    if up_down==0 or up_down==1:\n",
    "        break\n",
    "    else:\n",
    "        print(\"Doc ky va nhap lai di ban toi oi!\")\n",
    "if up_down==0:\n",
    "    for i in range (0, len(str1)):\n",
    "        if str1[i].isupper():\n",
    "            str2=str2+str1[i]\n",
    "        else:\n",
    "            str2=str2+str1[i].upper()\n",
    "elif up_down==1:\n",
    "    for i in range (0, len(str1)):\n",
    "        if str1[i].islower():\n",
    "            str2=str2+str1[i]\n",
    "        else:\n",
    "            str2=str2+str1[i].lower()\n",
    "print(\"chuoi khi sau khi xu ly la: {str2}\".format(str2=str2))"
   ]
  },
  {
   "cell_type": "code",
   "execution_count": null,
   "id": "dae256fe",
   "metadata": {
    "scrolled": true
   },
   "outputs": [],
   "source": [
    "#8\n",
    "str1=input(\"Nhap chuoi: \")\n",
    "str2=''\n",
    "i=0\n",
    "for i in range (0,len(str1)):\n",
    "    if str1[i].islower():\n",
    "        str2=str2+str1[i]\n",
    "    else:\n",
    "        str2=str2+' '+str1[i].lower()\n",
    "print(\"chuoi khi sau khi xu ly la: {str2}\".format(str2=str2))"
   ]
  },
  {
   "cell_type": "code",
   "execution_count": null,
   "id": "16d8f338",
   "metadata": {},
   "outputs": [],
   "source": [
    "#9\n",
    "str1=input(\"Nhap chuoi: \")\n",
    "str2=''\n",
    "for i in range (0,len(str1)):\n",
    "    if str1[i] not in str2:\n",
    "        str2=str2+str1[i]\n",
    "print(str2)"
   ]
  },
  {
   "cell_type": "code",
   "execution_count": null,
   "id": "e204b47c",
   "metadata": {},
   "outputs": [],
   "source": [
    "#10\n",
    "thu=0\n",
    "chi=0\n",
    "l=[0]\n",
    "for i in l:\n",
    "    hoa_don=input(\"Nhap hoa don thu chi: \")\n",
    "    if hoa_don == 'q' or hoa_don == 'Q':\n",
    "        print(\"Tong thu la: {thu}\\nTong chi la: {chi}\".format(thu=thu, chi=chi))\n",
    "        break\n",
    "    elif hoa_don[1:].isnumeric():\n",
    "        if hoa_don[0] =='t'or hoa_don[0] == 'T':\n",
    "            thu=thu+int(hoa_don[1:])\n",
    "        elif hoa_don[0] == 'c' or hoa_don[0] == 'C':\n",
    "            chi=chi+int(hoa_don[1:])\n",
    "        else:\n",
    "            print(\"Hay nhap theo cu phap: T123.., C123.., q\")\n",
    "    else:\n",
    "        print(\"Hay nhap theo cu phap: T123.., C123.., q\")"
   ]
  },
  {
   "cell_type": "code",
   "execution_count": null,
   "id": "fdbe3255",
   "metadata": {},
   "outputs": [],
   "source": [
    "#11\n",
    "str2=input(\"Nhap 1 chuoi can dem ky tu: \")\n",
    "i_max=0\n",
    "s_max=''\n",
    "for i in range (0, len(str2)):\n",
    "    if i_max<str2.count(str2[i]):\n",
    "        i_max=str2.count(str2[i])\n",
    "        s_max=str2[i]\n",
    "        if s_max==\" \":\n",
    "            s_max=\"Space\"\n",
    "print(\"Ky tu lap nhieu nhat la: {s_max} voi {i_max} lan lap\".format(s_max=s_max, i_max=i_max))\n",
    "    "
   ]
  },
  {
   "cell_type": "code",
   "execution_count": null,
   "id": "58e92055",
   "metadata": {},
   "outputs": [],
   "source": [
    "#12\n",
    "a=int(input(\"Nhap so o moi canh: \"))\n",
    "ran=1\n",
    "so_o=a*a\n",
    "for i in range (0, so_o):\n",
    "    ran=ran*2\n",
    "    if ran>=so_o:  \n",
    "        break\n",
    "print(\"So lan an toi da cua ran la: {i}\".format(i=i))"
   ]
  },
  {
   "cell_type": "code",
   "execution_count": 2,
   "id": "8014adae",
   "metadata": {},
   "outputs": [
    {
     "name": "stdout",
     "output_type": "stream",
     "text": [
      "Nhap gioi han duoi: 20\n",
      "Nhap gioi han tren: 50\n",
      "Nhap ty le % win: 50\n",
      "Nhap so ban du doan: 21\n",
      "Ban doan sai roi, ban con 14 lan doan!\n",
      "Nhap so ban du doan: 60\n",
      "Ban doan sai roi, ban con 13 lan doan!\n",
      "Nhap so ban du doan: 22\n",
      "Ban doan sai roi, ban con 12 lan doan!\n",
      "Nhap so ban du doan: 23\n",
      "Ban doan sai roi, ban con 11 lan doan!\n",
      "Nhap so ban du doan: 24\n",
      "Ban doan sai roi, ban con 10 lan doan!\n",
      "Nhap so ban du doan: 25\n",
      "Ban doan sai roi, ban con 9 lan doan!\n",
      "Nhap so ban du doan: 26\n",
      "Ban doan sai roi, ban con 8 lan doan!\n",
      "Nhap so ban du doan: 27\n",
      "Ban doan sai roi, ban con 7 lan doan!\n",
      "Nhap so ban du doan: 28\n",
      "Ban doan sai roi, ban con 6 lan doan!\n",
      "Nhap so ban du doan: 29\n",
      "Ban doan sai roi, ban con 5 lan doan!\n",
      "Nhap so ban du doan: 30\n",
      "Ban doan sai roi, ban con 4 lan doan!\n",
      "Nhap so ban du doan: 31\n",
      "Ban doan sai roi, ban con 3 lan doan!\n",
      "Nhap so ban du doan: 32\n",
      "Ban doan sai roi, ban con 2 lan doan!\n",
      "Nhap so ban du doan: 33\n",
      "Ban doan sai roi, ban con 1 lan doan!\n",
      "Nhap so ban du doan: 35\n",
      "Ban doan sai roi, ban con 0 lan doan!\n"
     ]
    }
   ],
   "source": [
    "#13\n",
    "import random\n",
    "while True:\n",
    "    so_min=int(input(\"Nhap gioi han duoi: \"))\n",
    "    so_max=int(input(\"Nhap gioi han tren: \"))\n",
    "    ratio=float(input(\"Nhap ty le % win: \"))\n",
    "    if so_max>so_min>0 and ratio >0:\n",
    "        break\n",
    "    else:\n",
    "        print(\"Gioi han tren phai lon hon gioi han duoi, tat ca phai la so duong\")\n",
    "a=random.randint(so_min,so_max)\n",
    "n=int((so_max-so_min)*(ratio/100))\n",
    "for i in range (1, n+1):\n",
    "    b=int(input(\"Nhap so ban du doan: \"))\n",
    "    if b==a:\n",
    "        print(\"Chuc mung ban da trung 100tr\")\n",
    "        break\n",
    "    else:\n",
    "        print(\"Ban doan sai roi, ban con {c} lan doan!\".format(c=n-i))"
   ]
  },
  {
   "cell_type": "code",
   "execution_count": 7,
   "id": "54f65bb8",
   "metadata": {},
   "outputs": [
    {
     "name": "stdout",
     "output_type": "stream",
     "text": [
      "Nhap chuoi can dao nguoc: 123456\n",
      "Chuoi sau khi dao la: 654321\n"
     ]
    }
   ],
   "source": [
    "#14\n",
    "str2=input(\"Nhap chuoi can dao nguoc: \")\n",
    "str1=''\n",
    "for i in range (-1,-len(str2)-1,-1):\n",
    "    str1=str1+str2[i]\n",
    "print(\"Chuoi sau khi dao la: {str1}\".format(str1=str1))"
   ]
  },
  {
   "cell_type": "code",
   "execution_count": 8,
   "id": "7ec79fea",
   "metadata": {},
   "outputs": [
    {
     "name": "stdout",
     "output_type": "stream",
     "text": [
      "Nhap chuoi: Phan Tien Dat\n",
      "So ky tu viet hoa la: 3\n",
      "So ky tu viet thuong la: 8\n"
     ]
    }
   ],
   "source": [
    "#15 Dem ki tu hoa va thuong\n",
    "stri=input(\"Nhap chuoi: \")\n",
    "ky_tu_hoa=0\n",
    "ky_tu_thuong=0\n",
    "for i in range (0, len(stri)):\n",
    "    if stri[i].isupper():\n",
    "        ky_tu_hoa+=1\n",
    "    elif stri[i].islower():\n",
    "        ky_tu_thuong+=1\n",
    "print(\"So ky tu viet hoa la: {a}\\nSo ky tu viet thuong la: {b}\".format(a=ky_tu_hoa,b=ky_tu_thuong))"
   ]
  },
  {
   "cell_type": "code",
   "execution_count": null,
   "id": "4bc03906",
   "metadata": {},
   "outputs": [],
   "source": []
  }
 ],
 "metadata": {
  "kernelspec": {
   "display_name": "Python 3 (ipykernel)",
   "language": "python",
   "name": "python3"
  },
  "language_info": {
   "codemirror_mode": {
    "name": "ipython",
    "version": 3
   },
   "file_extension": ".py",
   "mimetype": "text/x-python",
   "name": "python",
   "nbconvert_exporter": "python",
   "pygments_lexer": "ipython3",
   "version": "3.9.12"
  }
 },
 "nbformat": 4,
 "nbformat_minor": 5
}
