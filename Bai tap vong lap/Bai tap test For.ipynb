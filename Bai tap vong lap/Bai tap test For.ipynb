{
 "cells": [
  {
   "cell_type": "code",
   "execution_count": 4,
   "id": "556f9793",
   "metadata": {},
   "outputs": [
    {
     "name": "stdout",
     "output_type": "stream",
     "text": [
      "apple\n",
      "banana\n",
      "cherry\n"
     ]
    }
   ],
   "source": [
    "listFruit=[\"apple\", \"banana\", \"cherry\"]\n",
    "for fruit in listFruit:\n",
    "    print(fruit)"
   ]
  },
  {
   "cell_type": "code",
   "execution_count": 8,
   "id": "3d353227",
   "metadata": {},
   "outputs": [
    {
     "name": "stdout",
     "output_type": "stream",
     "text": [
      "1, a, b, c, 2, a, b, c, 3, a, b, c, "
     ]
    }
   ],
   "source": [
    "num_list=[1,2,3]\n",
    "alpha_list=['a','b','c']\n",
    "for number in num_list:\n",
    "    print(number, end=', ')\n",
    "    for letter in alpha_list:\n",
    "        print(letter, end=', ')"
   ]
  },
  {
   "cell_type": "code",
   "execution_count": 11,
   "id": "120fd72c",
   "metadata": {},
   "outputs": [],
   "source": [
    "import turtle\n",
    "wn=turtle.Screen()\n",
    "wn.bgcolor('black')\n",
    "wn.title('Square')\n",
    "myPen=turtle.Turtle()\n",
    "myPen.speed(0)\n",
    "myPen.color(\"#FF0000\")\n",
    "for i in range (4):\n",
    "    myPen.forward(100)\n",
    "    myPen.left(90)\n",
    "turtle.done()"
   ]
  },
  {
   "cell_type": "code",
   "execution_count": null,
   "id": "c4e9577f",
   "metadata": {},
   "outputs": [],
   "source": []
  }
 ],
 "metadata": {
  "kernelspec": {
   "display_name": "Python 3 (ipykernel)",
   "language": "python",
   "name": "python3"
  },
  "language_info": {
   "codemirror_mode": {
    "name": "ipython",
    "version": 3
   },
   "file_extension": ".py",
   "mimetype": "text/x-python",
   "name": "python",
   "nbconvert_exporter": "python",
   "pygments_lexer": "ipython3",
   "version": "3.9.12"
  }
 },
 "nbformat": 4,
 "nbformat_minor": 5
}
