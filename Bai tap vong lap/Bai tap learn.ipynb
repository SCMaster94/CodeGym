{
 "cells": [
  {
   "cell_type": "code",
   "execution_count": null,
   "id": "ff05efc7",
   "metadata": {},
   "outputs": [],
   "source": [
    "#ve hinh chu nhat\n",
    "import turtle\n",
    "a=int(input(\"Nhap do dai cac canh cua hinh chu nhat:\"))\n",
    "t=turtle.Turtle()\n",
    "t.hideturtle()\n",
    "t.pencolor(\"red\")\n",
    "edge=0\n",
    "while edge<4:\n",
    "    t.forward(a)\n",
    "    t.right(90)\n",
    "    edge+=1\n",
    "turtle.done()"
   ]
  },
  {
   "cell_type": "code",
   "execution_count": null,
   "id": "aff862b2",
   "metadata": {},
   "outputs": [],
   "source": [
    "import turtle\n",
    "import random as r\n",
    "t=turtle.Turtle()\n",
    "t.shape(\"turtle\")\n",
    "t.hideturtle()\n",
    "t.pensize(3)\n",
    "t.color(\"blue\")\n",
    "t.speed(1)\n",
    "t.penup()\n",
    "t.goto(-400,0)\n",
    "t.showturtle()\n",
    "count=0\n",
    "while count < 0:\n",
    "    down=r.dandint(20,50)\n",
    "    up=r.randint(20,50)\n",
    "    t.pendown()\n",
    "    t.forward(down)\n",
    "    t.penup()\n",
    "    t.forward(up)\n",
    "    count+=1\n",
    "turtle.done()"
   ]
  },
  {
   "cell_type": "code",
   "execution_count": null,
   "id": "83113643",
   "metadata": {},
   "outputs": [],
   "source": [
    "import turtle\n",
    "import random as r\n",
    "import random\n",
    "t=turtle.Turtle()\n",
    "t.shape(\"turtle\")\n",
    "t.hideturtle()\n",
    "t.penup()\n",
    "t.goto(0,-200)\n",
    "t.speed(10)\n",
    "t.pensize(10)\n",
    "t.color(\"black\")\n",
    "t.pendown()\n",
    "t.circle(200)\n",
    "\n",
    "t.penup()\n",
    "t.speed(10)\n",
    "t.shape(\"turtle\")\n",
    "t.pencolor(\"green\")\n",
    "t.goto(0,0)\n",
    "\n",
    "angle=random.randint(0,360)\n",
    "t.right(angle)\n",
    "t.showturtle()\n",
    "\n",
    "count=0\n",
    "while True:\n",
    "    t.speed(1)\n",
    "    t.forward(188)\n",
    "    t.hideturtel()\n",
    "    t.speed(10)\n",
    "    t.goto(0,0)\n",
    "    t.right(angle)\n",
    "    t.showturtle()\n",
    "    count +=1\n",
    "    if count ==10:\n",
    "        break\n",
    "\n",
    "turtle.done()"
   ]
  },
  {
   "cell_type": "code",
   "execution_count": null,
   "id": "e68180c4",
   "metadata": {},
   "outputs": [],
   "source": []
  }
 ],
 "metadata": {
  "kernelspec": {
   "display_name": "Python 3 (ipykernel)",
   "language": "python",
   "name": "python3"
  },
  "language_info": {
   "codemirror_mode": {
    "name": "ipython",
    "version": 3
   },
   "file_extension": ".py",
   "mimetype": "text/x-python",
   "name": "python",
   "nbconvert_exporter": "python",
   "pygments_lexer": "ipython3",
   "version": "3.9.12"
  }
 },
 "nbformat": 4,
 "nbformat_minor": 5
}
