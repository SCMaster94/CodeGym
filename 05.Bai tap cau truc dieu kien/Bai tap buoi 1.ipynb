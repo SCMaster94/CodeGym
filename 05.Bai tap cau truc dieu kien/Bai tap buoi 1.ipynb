{
 "cells": [
  {
   "cell_type": "code",
   "execution_count": null,
   "id": "36c09916",
   "metadata": {},
   "outputs": [],
   "source": [
    "n=int(input(\"Nhap vao mot so bat ky\"))"
   ]
  },
  {
   "cell_type": "code",
   "execution_count": null,
   "id": "428c6e37",
   "metadata": {},
   "outputs": [],
   "source": [
    "#1 tinh abs\n",
    "n=int(input(\"Nhap vao mot so bat ky: \"))\n",
    "print(abs(n))"
   ]
  },
  {
   "cell_type": "code",
   "execution_count": null,
   "id": "3990b575",
   "metadata": {},
   "outputs": [],
   "source": [
    "#2 Giai pt bac 1\n",
    "a=int(input(\"Nhap gia tri a: \"))\n",
    "b=int(input(\"Nhap gia tri b: \"))\n",
    "if a==0:\n",
    "    if b==0:\n",
    "        print(\"Phuong trinh vo so nghiem\")\n",
    "    else:\n",
    "        print(\"Phuong trinh vo ngiem\")\n",
    "else:\n",
    "    print(\"Nghiem cua phuong trinh {a}*x+{b}=0 la: {c}\".format(a=a, b=b, c=(-b/a)))\n"
   ]
  },
  {
   "cell_type": "code",
   "execution_count": null,
   "id": "be80c46f",
   "metadata": {},
   "outputs": [],
   "source": [
    "#3 Giai pt bac 2\n",
    "import math\n",
    "a=int(input(\"Nhap gia tri a: \"))\n",
    "b=int(input(\"Nhap gia tri b: \"))\n",
    "c=int(input(\"Nhap gia tri c: \"))\n",
    "delta = b*b-4*a*c\n",
    "if a==0:\n",
    "    if b==0:\n",
    "        if c==0:\n",
    "            print(\"Phuong trinh vo so nghiem\")\n",
    "        else:\n",
    "            print(\"Phuong trinh vo nghiem\")\n",
    "    else:\n",
    "        print(\"Nghiem cua phuong trinh {a}*x^2+{b}*x+{c}=0 la: {d}\".format(a=a, b=b, c=c, d=(-c/b)))\n",
    "    \n",
    "else:\n",
    "    if delta>0:\n",
    "        print(\"Phuong trinh {a}*x^2+{b}*x+{c}=0 co nghiem la:\\n{d1}\\n{d2}\".format(a=a,b=b,c=c,d1=(-b+math.sqrt(delta))/(2*a),d2=(-b-math.sqrt(delta))/(2*a)))\n",
    "    elif delta==0:\n",
    "        print(\"Phuong trinh {a}*x^2+{b}*x+{c}=0 co nghiem kep: {d}\".format(a=a, b=b, c=c, d=-b/(2*a)))\n",
    "    else:\n",
    "        print(\"Phuong trinh vo nghiem\")"
   ]
  },
  {
   "cell_type": "code",
   "execution_count": 7,
   "id": "d13853d4",
   "metadata": {},
   "outputs": [
    {
     "name": "stdout",
     "output_type": "stream",
     "text": [
      "Nhap so thu nhat: 1\n",
      "Nhap so thu hai: c\n",
      "Ban da nhap sai\n"
     ]
    }
   ],
   "source": [
    "#4 Xuat gia tri lon nhat\n",
    "try:\n",
    "    a=int(input(\"Nhap so thu nhat: \"))\n",
    "    b=int(input(\"Nhap so thu hai: \"))\n",
    "    c=int(input(\"Nhap so thu ba: \"))\n",
    "    if a>=b:\n",
    "        if a>=c:\n",
    "            gia_tri_max=a\n",
    "        else:\n",
    "            gia_tri_max=c\n",
    "    else:\n",
    "        if b>=c:\n",
    "            gia_tri_max=b\n",
    "        else:\n",
    "            gia_tri_max=c\n",
    "    print(\"gia tri lon nhat la: {n}\".format(n=gia_tri_max))\n",
    "except:\n",
    "    print(\"Ban da nhap sai\")\n"
   ]
  },
  {
   "cell_type": "code",
   "execution_count": 6,
   "id": "b4e7e28e",
   "metadata": {},
   "outputs": [
    {
     "name": "stdout",
     "output_type": "stream",
     "text": [
      "Nhap mot so tu 1 den 5: 1\n",
      "mot\n"
     ]
    }
   ],
   "source": [
    "#5 Xuat cach doc so\n",
    "n=float(input(\"Nhap mot so tu 1 den 5: \"))\n",
    "if n==1:\n",
    "    print(\"mot\")\n",
    "elif n==2:\n",
    "    print(\"hai\")\n",
    "elif n==3:\n",
    "    print(\"ba\")\n",
    "elif n==4:\n",
    "    print(\"bon\")\n",
    "elif n==5:\n",
    "    print(\"nam\")\n",
    "else:\n",
    "    print(\"Vui long nhap lai\")"
   ]
  },
  {
   "cell_type": "code",
   "execution_count": null,
   "id": "5a8f871d",
   "metadata": {},
   "outputs": [],
   "source": [
    "#6 Xuat ngay thang nam\n",
    "thang=int(input(\"Nhap thang: \"))\n",
    "nam=int(input(\"Nhap nam: \"))\n",
    "if thang="
   ]
  },
  {
   "cell_type": "code",
   "execution_count": null,
   "id": "d542bdf4",
   "metadata": {},
   "outputs": [],
   "source": [
    "#7Kiem tra nam nhuan\n"
   ]
  },
  {
   "cell_type": "code",
   "execution_count": null,
   "id": "4cc2543c",
   "metadata": {},
   "outputs": [],
   "source": [
    "#8 Kiem tra ngay thang"
   ]
  }
 ],
 "metadata": {
  "kernelspec": {
   "display_name": "Python 3 (ipykernel)",
   "language": "python",
   "name": "python3"
  },
  "language_info": {
   "codemirror_mode": {
    "name": "ipython",
    "version": 3
   },
   "file_extension": ".py",
   "mimetype": "text/x-python",
   "name": "python",
   "nbconvert_exporter": "python",
   "pygments_lexer": "ipython3",
   "version": "3.9.12"
  }
 },
 "nbformat": 4,
 "nbformat_minor": 5
}
