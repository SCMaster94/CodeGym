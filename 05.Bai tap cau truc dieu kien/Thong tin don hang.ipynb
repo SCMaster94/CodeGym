{
 "cells": [
  {
   "cell_type": "code",
   "execution_count": 5,
   "id": "1ec5e8d3",
   "metadata": {},
   "outputs": [
    {
     "name": "stdout",
     "output_type": "stream",
     "text": [
      "Give me a price: 100\n",
      "Total:  75\n"
     ]
    }
   ],
   "source": [
    "num = int(input(\"Give me a price: \"))\n",
    "if num >= 150:\n",
    "    print(\"Total: \", num - 50)\n",
    "elif num >= 100:\n",
    "    print(\"Total: \", num - 25)\n",
    "elif num >= 75:\n",
    "    print(\"Total: \", num - 15)\n",
    "else:\n",
    "    print(\"Total: \", num)"
   ]
  },
  {
   "cell_type": "code",
   "execution_count": null,
   "id": "b610413f",
   "metadata": {},
   "outputs": [],
   "source": []
  },
  {
   "cell_type": "code",
   "execution_count": null,
   "id": "8f9634d4",
   "metadata": {},
   "outputs": [],
   "source": []
  }
 ],
 "metadata": {
  "kernelspec": {
   "display_name": "Python 3 (ipykernel)",
   "language": "python",
   "name": "python3"
  },
  "language_info": {
   "codemirror_mode": {
    "name": "ipython",
    "version": 3
   },
   "file_extension": ".py",
   "mimetype": "text/x-python",
   "name": "python",
   "nbconvert_exporter": "python",
   "pygments_lexer": "ipython3",
   "version": "3.9.12"
  }
 },
 "nbformat": 4,
 "nbformat_minor": 5
}
