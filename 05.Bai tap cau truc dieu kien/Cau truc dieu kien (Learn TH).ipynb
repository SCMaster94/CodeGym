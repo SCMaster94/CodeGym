{
 "cells": [
  {
   "cell_type": "code",
   "execution_count": 1,
   "id": "70eb4442",
   "metadata": {},
   "outputs": [
    {
     "name": "stdout",
     "output_type": "stream",
     "text": [
      "Nhap hinh ban muon ve 1-Vuong 2-Tron: 2\n"
     ]
    },
    {
     "ename": "TypeError",
     "evalue": "'<' not supported between instances of 'NoneType' and 'int'",
     "output_type": "error",
     "traceback": [
      "\u001b[1;31m---------------------------------------------------------------------------\u001b[0m",
      "\u001b[1;31mTypeError\u001b[0m                                 Traceback (most recent call last)",
      "Input \u001b[1;32mIn [1]\u001b[0m, in \u001b[0;36m<cell line: 7>\u001b[1;34m()\u001b[0m\n\u001b[0;32m      5\u001b[0m colorInput\u001b[38;5;241m=\u001b[39m random\u001b[38;5;241m.\u001b[39mseed(\u001b[38;5;241m3\u001b[39m)\n\u001b[0;32m      6\u001b[0m t\u001b[38;5;241m=\u001b[39mturtle\u001b[38;5;241m.\u001b[39mTurtle()\n\u001b[1;32m----> 7\u001b[0m \u001b[38;5;28;01mif\u001b[39;00m \u001b[43mcolorInput\u001b[49m\u001b[38;5;241;43m<\u001b[39;49m\u001b[38;5;241;43m1\u001b[39;49m:\n\u001b[0;32m      8\u001b[0m     colorInput\u001b[38;5;241m=\u001b[39m\u001b[38;5;124m'\u001b[39m\u001b[38;5;124mgreen\u001b[39m\u001b[38;5;124m'\u001b[39m\n\u001b[0;32m      9\u001b[0m \u001b[38;5;28;01melif\u001b[39;00m colorInput\u001b[38;5;241m<\u001b[39m\u001b[38;5;241m2\u001b[39m:\n",
      "\u001b[1;31mTypeError\u001b[0m: '<' not supported between instances of 'NoneType' and 'int'"
     ]
    }
   ],
   "source": [
    "#Ve va to mau\n",
    "import turtle\n",
    "shape=int(input(\"Nhap hinh ban muon ve 1-Vuong 2-Tron: \"))\n",
    "colorInput= int(input(\" Nhap mau sac ban muon to 1-Vang, 2-Do, 3-Xanh duong: \"))\n",
    "t=turtle.Turtle()\n",
    "if colorInput==1:\n",
    "    colorInput='yellow'\n",
    "elif colorInput==2:\n",
    "    colorInput='red'\n",
    "elif colorInput==3:\n",
    "    colorInput='blue'\n",
    "else:\n",
    "    print(\"Vui long nhap lai ma mau!\")\n",
    "if shape==1:\n",
    "    shape='square'\n",
    "elif shape==2:\n",
    "    shape='circle'\n",
    "else:\n",
    "    print(\"Vui long nhap lai hinh muon ve!\")\n",
    "t.shape(shape)\n",
    "t.color(colorInput)\n",
    "turtle.done()\n",
    "    \n",
    "    \n",
    "    "
   ]
  },
  {
   "cell_type": "code",
   "execution_count": 10,
   "id": "5b091926",
   "metadata": {},
   "outputs": [
    {
     "name": "stdout",
     "output_type": "stream",
     "text": [
      "0\n"
     ]
    }
   ],
   "source": [
    "#To mau ngau nhien\n",
    "import turtle\n",
    "import random\n",
    "intNumber=int(random.uniform(0,3))\n",
    "wn=turtle.Screen()\n",
    "wn.bgcolor(\"black\")\n",
    "wn.title(\"Circle\")\n",
    "ball=turtle.Turtle()\n",
    "ball.shape('circle')\n",
    "if intNumber<1:\n",
    "    ball.color('green')\n",
    "elif intNumber<2:\n",
    "    ball.color('yellow')\n",
    "elif intNumber<3:\n",
    "    ball.color('red')\n",
    "turtle.done()\n",
    "print(intNumber)"
   ]
  },
  {
   "cell_type": "code",
   "execution_count": null,
   "id": "20759a28",
   "metadata": {},
   "outputs": [],
   "source": []
  }
 ],
 "metadata": {
  "kernelspec": {
   "display_name": "Python 3 (ipykernel)",
   "language": "python",
   "name": "python3"
  },
  "language_info": {
   "codemirror_mode": {
    "name": "ipython",
    "version": 3
   },
   "file_extension": ".py",
   "mimetype": "text/x-python",
   "name": "python",
   "nbconvert_exporter": "python",
   "pygments_lexer": "ipython3",
   "version": "3.9.12"
  }
 },
 "nbformat": 4,
 "nbformat_minor": 5
}
