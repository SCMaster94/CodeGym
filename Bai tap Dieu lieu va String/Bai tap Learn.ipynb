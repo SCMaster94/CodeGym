{
 "cells": [
  {
   "cell_type": "code",
   "execution_count": null,
   "id": "e0c41bff",
   "metadata": {},
   "outputs": [],
   "source": [
    "#Tinh chu vi va dien tich hinh tron\n",
    "import turtle\n",
    "import math\n",
    "r=int(input(\"Enter the radius:\"))\n",
    "t=turtle.Turtle()\n",
    "t.hideturtle()\n",
    "t.pensize(1)\n",
    "t.color(\"red\")\n",
    "t.circle(r)\n",
    "c=2*math.pi*r\n",
    "s=math.pi*r*r\n",
    "print(\"chu vi cua hinh tron co ban kinh = {r} la {c}\".format(r=r, c=c))\n",
    "print(\"Dien tich cua hinh tron co ban kinh ={r} la {s}\".format(r=r, s=s))\n",
    "turtle.done()"
   ]
  },
  {
   "cell_type": "code",
   "execution_count": null,
   "id": "a22e8e82",
   "metadata": {},
   "outputs": [],
   "source": [
    "#To mau hinh chu nhat\n",
    "import turtle\n",
    "color=input(\"Nhap mau hoac ma mau:\")\n",
    "w=float(\"Nhap chieu dai hinh chu nhat: \")\n",
    "h=float(\"Nhap chieu cao hinh chu nhat: \")\n",
    "t=turtle.Turtle()\n",
    "t.hideturtle()\n",
    "t.color(color)\n",
    "t.begin_fill()\n",
    "t.foward(w)\n",
    "t.left(90)\n",
    "t.foward(h)\n",
    "t.left(90)\n",
    "t.foward(w)\n",
    "t.left(90)\n",
    "t.foward(h)\n",
    "t.end_fill()\n",
    "t.turtle.done()\n",
    "c=2*(w+h)\n",
    "s=w*h\n",
    "print(\"Chu vi hinh chu nhat (dai = {w}, rong ={h} la {c})\".format(w=w, h=h, c=c))\n",
    "print(\"Dien tich hinh chu nhat (dai={w}, rong = {h} la {s})\".format(w=w. h=h, c=c))\n"
   ]
  },
  {
   "cell_type": "code",
   "execution_count": null,
   "id": "ce6afcad",
   "metadata": {},
   "outputs": [],
   "source": [
    "#Bai tap chuyen doi tien te\n",
    "USD=float(input(\"Nhap so tien USD can doi: \"))\n",
    "ratio_USD_VND=float(input(\"Nhap ti gia USD/VND: \"))\n",
    "VND=USD*ratio_USD_VND\n",
    "print(\"So tien VND doi duoc: {VND}\".format(VND=VND))\n"
   ]
  },
  {
   "cell_type": "code",
   "execution_count": null,
   "id": "d257700c",
   "metadata": {},
   "outputs": [],
   "source": []
  }
 ],
 "metadata": {
  "kernelspec": {
   "display_name": "Python 3 (ipykernel)",
   "language": "python",
   "name": "python3"
  },
  "language_info": {
   "codemirror_mode": {
    "name": "ipython",
    "version": 3
   },
   "file_extension": ".py",
   "mimetype": "text/x-python",
   "name": "python",
   "nbconvert_exporter": "python",
   "pygments_lexer": "ipython3",
   "version": "3.9.12"
  }
 },
 "nbformat": 4,
 "nbformat_minor": 5
}
