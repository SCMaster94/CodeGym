{
 "cells": [
  {
   "cell_type": "code",
   "execution_count": null,
   "id": "420f3921",
   "metadata": {
    "scrolled": true
   },
   "outputs": [],
   "source": [
    "import turtle\n",
    "t=turtle.Turtle()\n",
    "t.pensize(10)\n",
    "t.pencolor('red')\n",
    "t.fillcolor('gray')\n",
    "t.begin_fill()\n",
    "t.forward(100)\n",
    "t.left(90)\n",
    "t.pencolor('green')\n",
    "t.forward(100)\n",
    "t.left(90)\n",
    "t.pencolor('blue')\n",
    "t.forward(100)\n",
    "t.left(90)\n",
    "t.pencolor('yellow')\n",
    "t.forward(100)\n",
    "t.left(90)\n",
    "t.end_fill()\n",
    "turtle.done()"
   ]
  },
  {
   "cell_type": "code",
   "execution_count": 23,
   "id": "7906ab81",
   "metadata": {},
   "outputs": [],
   "source": [
    "import turtle\n",
    "t=turtle.Turtle()\n",
    "t.forward(100)\n",
    "t.right(144)\n",
    "t.forward(100)\n",
    "t.right(144)\n",
    "t.forward(100)\n",
    "t.right(144)\n",
    "t.forward(100)\n",
    "t.right(144)\n",
    "t.forward(100)\n",
    "t.right(144)\n",
    "turtle.done()"
   ]
  },
  {
   "cell_type": "code",
   "execution_count": 21,
   "id": "43623caa",
   "metadata": {},
   "outputs": [],
   "source": [
    "import turtle\n",
    "t=turtle.Turtle()\n",
    "t.forward(100)\n",
    "t.right(72)\n",
    "t.forward(100)\n",
    "t.left(144)\n",
    "t.forward(100)\n",
    "t.right(72)\n",
    "t.forward(100)\n",
    "t.left(144)\n",
    "t.forward(100)\n",
    "t.right(72)\n",
    "t.forward(100)\n",
    "t.left(144)\n",
    "t.forward(100)\n",
    "t.right(72)\n",
    "t.forward(100)\n",
    "t.left(144)\n",
    "t.forward(100)\n",
    "t.right(72)\n",
    "t.forward(100)\n",
    "t.left(144)\n",
    "turtle.done()"
   ]
  },
  {
   "cell_type": "code",
   "execution_count": null,
   "id": "5bdf1849",
   "metadata": {},
   "outputs": [],
   "source": []
  },
  {
   "cell_type": "code",
   "execution_count": null,
   "id": "fac0817c",
   "metadata": {},
   "outputs": [],
   "source": []
  }
 ],
 "metadata": {
  "kernelspec": {
   "display_name": "Python 3 (ipykernel)",
   "language": "python",
   "name": "python3"
  },
  "language_info": {
   "codemirror_mode": {
    "name": "ipython",
    "version": 3
   },
   "file_extension": ".py",
   "mimetype": "text/x-python",
   "name": "python",
   "nbconvert_exporter": "python",
   "pygments_lexer": "ipython3",
   "version": "3.9.12"
  }
 },
 "nbformat": 4,
 "nbformat_minor": 5
}
