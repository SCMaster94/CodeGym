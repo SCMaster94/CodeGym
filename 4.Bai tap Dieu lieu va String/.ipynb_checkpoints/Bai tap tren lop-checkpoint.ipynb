{
 "cells": [
  {
   "cell_type": "code",
   "execution_count": null,
   "id": "db092029",
   "metadata": {},
   "outputs": [],
   "source": [
    "chuoi=input(\"Nhap chuoi muon lap: \")\n",
    "try:\n",
    "    n=int(input(\"Nhap so lan lap:\"))\n",
    "except:\n",
    "    print(\"Vui long nhap so lan lap la so nguyen\")\n",
    "    n=0\n",
    "print((chuoi+\"\\n\")*n)"
   ]
  },
  {
   "cell_type": "code",
   "execution_count": null,
   "id": "af7d36f9",
   "metadata": {},
   "outputs": [],
   "source": [
    "year=int(input(\"Nhap so năm: \"))\n",
    "print(\"Nam truoc la {a} va nam sau la {b}\".format(a=year-1,b=year+1))"
   ]
  },
  {
   "cell_type": "code",
   "execution_count": null,
   "id": "c026bc12",
   "metadata": {},
   "outputs": [],
   "source": [
    "str1=input(\"Nhap chuoi can dao nguoc: \")\n",
    "# str1=\"0123456789\"\n",
    "print(str1[len(str1)::-1])"
   ]
  },
  {
   "cell_type": "code",
   "execution_count": null,
   "id": "629d4af5",
   "metadata": {},
   "outputs": [],
   "source": [
    "str1=input(\"Nhap chuoi can xu ly: \")\n",
    "n=int(input(\"Nhap vi tri can dao nguoc: \"))\n",
    "# str1=\"0123456789\"\n",
    "\n",
    "print(str1[n-1::-1]+str1[n:len(str1)])"
   ]
  },
  {
   "cell_type": "code",
   "execution_count": null,
   "id": "2d844a5e",
   "metadata": {},
   "outputs": [],
   "source": [
    "str1=\"\"\"\"1.HN 2.DN 3.HM\"\"\"\n",
    "number=input(\"Nhap gia tri can tim: \")\n",
    "n=str1.find(number)\n",
    "print(str1[(n+2):(n+4)])"
   ]
  },
  {
   "cell_type": "code",
   "execution_count": null,
   "id": "fda42f68",
   "metadata": {},
   "outputs": [],
   "source": []
  },
  {
   "cell_type": "code",
   "execution_count": null,
   "id": "db89f1a9",
   "metadata": {},
   "outputs": [],
   "source": []
  }
 ],
 "metadata": {
  "kernelspec": {
   "display_name": "Python 3 (ipykernel)",
   "language": "python",
   "name": "python3"
  },
  "language_info": {
   "codemirror_mode": {
    "name": "ipython",
    "version": 3
   },
   "file_extension": ".py",
   "mimetype": "text/x-python",
   "name": "python",
   "nbconvert_exporter": "python",
   "pygments_lexer": "ipython3",
   "version": "3.9.12"
  }
 },
 "nbformat": 4,
 "nbformat_minor": 5
}
