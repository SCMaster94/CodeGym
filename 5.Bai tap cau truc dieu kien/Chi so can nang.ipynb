{
 "cells": [
  {
   "cell_type": "code",
   "execution_count": 8,
   "id": "f417bd66",
   "metadata": {},
   "outputs": [
    {
     "name": "stdout",
     "output_type": "stream",
     "text": [
      "Nhap can nang cua ban (kg): 57\n",
      "Nhap chieu cao cua ban (m): 1.75\n",
      "Chi so BMI cua ban:  18.612244897959183\n",
      "Tinh trang co the:\n",
      "Binh thuong\n"
     ]
    }
   ],
   "source": [
    "can_nang=float(input(\"Nhap can nang cua ban (kg): \"))\n",
    "chieu_cap=float(input(\"Nhap chieu cao cua ban (m): \"))\n",
    "BMI = can_nang/(chieu_cap**2)\n",
    "print(\"Chi so BMI cua ban: \", BMI)\n",
    "print(\"Tinh trang co the:\")\n",
    "if BMI >= 40:\n",
    "    print(\"Beo phi cap do III\")\n",
    "if 35 <= BMI < 40:\n",
    "    print(\"Beo phi cap do II\")\n",
    "if 30 <= BMI < 35:\n",
    "    print(\"Beo phi cap do I\")\n",
    "if 25 <= BMI < 30:\n",
    "    print(\"Thua can\")\n",
    "if 18.5 <= BMI < 25:\n",
    "    print(\"Binh thuong\")\n",
    "if 17 <= BMI < 18.5:\n",
    "    print(\"Gay cap do I\")\n",
    "if 16 <= BMI < 17:\n",
    "    print(\"Gay cap do II\")\n",
    "if BMI < 16:\n",
    "    print(\"Gay cap do III\")"
   ]
  },
  {
   "cell_type": "code",
   "execution_count": null,
   "id": "5888249a",
   "metadata": {},
   "outputs": [],
   "source": []
  }
 ],
 "metadata": {
  "kernelspec": {
   "display_name": "Python 3 (ipykernel)",
   "language": "python",
   "name": "python3"
  },
  "language_info": {
   "codemirror_mode": {
    "name": "ipython",
    "version": 3
   },
   "file_extension": ".py",
   "mimetype": "text/x-python",
   "name": "python",
   "nbconvert_exporter": "python",
   "pygments_lexer": "ipython3",
   "version": "3.9.12"
  }
 },
 "nbformat": 4,
 "nbformat_minor": 5
}
