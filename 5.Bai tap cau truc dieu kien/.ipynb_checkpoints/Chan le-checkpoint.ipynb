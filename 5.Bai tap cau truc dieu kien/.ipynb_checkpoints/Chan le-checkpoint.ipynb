{
 "cells": [
  {
   "cell_type": "code",
   "execution_count": 1,
   "id": "3761df65",
   "metadata": {},
   "outputs": [
    {
     "name": "stdout",
     "output_type": "stream",
     "text": [
      "Nhap so nguyen: 0.2\n",
      "khong phai so tu nhien\n"
     ]
    }
   ],
   "source": [
    "a=float(input(\"Nhap so nguyen: \"))\n",
    "if a%2==0:\n",
    "    print('so chan')\n",
    "elif a%1==0:\n",
    "    print('so le')\n",
    "else:\n",
    "    print('khong phai so tu nhien')"
   ]
  },
  {
   "cell_type": "code",
   "execution_count": null,
   "id": "84a82207",
   "metadata": {},
   "outputs": [],
   "source": []
  }
 ],
 "metadata": {
  "kernelspec": {
   "display_name": "Python 3 (ipykernel)",
   "language": "python",
   "name": "python3"
  },
  "language_info": {
   "codemirror_mode": {
    "name": "ipython",
    "version": 3
   },
   "file_extension": ".py",
   "mimetype": "text/x-python",
   "name": "python",
   "nbconvert_exporter": "python",
   "pygments_lexer": "ipython3",
   "version": "3.9.12"
  }
 },
 "nbformat": 4,
 "nbformat_minor": 5
}
